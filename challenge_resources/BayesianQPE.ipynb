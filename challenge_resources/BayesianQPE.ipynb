{
 "cells": [
  {
   "cell_type": "code",
   "execution_count": 1,
   "id": "5f72bbe1-6651-4659-acda-37db48202aec",
   "metadata": {},
   "outputs": [],
   "source": [
    "from pytket.circuit import Circuit, CircBox, QControlBox\n",
    "\n",
    "from pytket.circuit.display import render_circuit_jupyter\n",
    "\n",
    "from pytket.extensions.nexus import NexusBackend, QuantinuumConfig, Nexus\n",
    "from datetime import datetime\n",
    "\n",
    "from pytket.backends.backendresult import BackendResult\n",
    "\n",
    "import phayes\n",
    "\n",
    "import numpy as np\n",
    "import matplotlib.pyplot as plt"
   ]
  },
  {
   "cell_type": "code",
   "execution_count": null,
   "id": "c1b19313-2d76-4df7-8aa0-6738fe56a3ec",
   "metadata": {},
   "outputs": [],
   "source": [
    "# Prepares circuit by hadamarding all the qubits\n",
    "def prepare_circ(circ: Circuit) -> Circuit():\n",
    "    n_qubits = circ.n_qubits\n",
    "    prepped_circ = Circuit(n_qubits)\n",
    "    \n",
    "    for i in range(n_qubits):\n",
    "        prepped_circ.H(i)\n",
    "    return prepped_circ"
   ]
  },
  {
   "cell_type": "code",
   "execution_count": 14,
   "id": "b8c126a9-3577-4045-b74c-0e2cbd89b345",
   "metadata": {},
   "outputs": [],
   "source": [
    "# Constructs unitary for an arbitrary size of qubits\n",
    "def construct_unitary(n_qubits: int, theta) -> Circuit():\n",
    "    ### Wait on Carson and Christine ###\n",
    "    u_circ = Circuit(n_qubits)\n",
    "    for i in range(n_qubits):\n",
    "        u_circ.U1(theta, i)\n",
    "    return u_circ"
   ]
  },
  {
   "cell_type": "code",
   "execution_count": null,
   "id": "5ac4a378-0174-451f-9c63-ce8252d7d7d4",
   "metadata": {},
   "outputs": [],
   "source": [
    "def bayes_qpe_iteration(prepped_circ: Circuit, cu_circ: Circuit,  beta: int, k_factor: int):\n",
    "    prepped_circ.add"
   ]
  },
  {
   "cell_type": "code",
   "execution_count": 15,
   "id": "35748a91-6a20-45d0-9013-f66d3fff785e",
   "metadata": {},
   "outputs": [
    {
     "data": {
      "text/html": [
       "\n",
       "\n",
       "\n",
       "\n",
       "\n",
       "\n",
       "<div style=\"resize: vertical; overflow: auto; height: 400px; display: block\">\n",
       "    <iframe srcdoc=\"\n",
       "&lt;!DOCTYPE html&gt;\n",
       "&lt;html lang=&#34;en&#34;&gt;\n",
       "&lt;head&gt;\n",
       "    &lt;meta charset=&#34;UTF-8&#34;&gt;\n",
       "    &lt;!-- Download Vue 3--&gt;\n",
       "&lt;script type=&#34;application/javascript&#34; src=&#34;https://cdn.jsdelivr.net/npm/vue@3&#34;&gt;&lt;/script&gt;\n",
       "&lt;!-- Download Circuit Renderer with styles --&gt;\n",
       "&lt;script type=&#34;application/javascript&#34; src=&#34;https://unpkg.com/pytket-circuit-renderer@0.7/dist/pytket-circuit-renderer.umd.js&#34;&gt;&lt;/script&gt;\n",
       "&lt;link rel=&#34;stylesheet&#34; href=&#34;https://unpkg.com/pytket-circuit-renderer@0.7/dist/pytket-circuit-renderer.css&#34;&gt;\n",
       "&lt;/head&gt;\n",
       "&lt;body&gt;\n",
       "\n",
       "\n",
       "\n",
       "    &lt;div id=&#34;circuit-display-vue-container-b879a975-c204-41fb-a94d-28f729e58733&#34; class=&#34;pytket-circuit-display-container&#34;&gt;\n",
       "        &lt;div style=&#34;display: none&#34;&gt;\n",
       "            &lt;div id=&#34;circuit-json-to-display&#34;&gt;{&#34;bits&#34;: [[&#34;c&#34;, [0]], [&#34;c&#34;, [1]], [&#34;c&#34;, [2]], [&#34;c&#34;, [3]]], &#34;commands&#34;: [{&#34;args&#34;: [[&#34;p&#34;, [0]]], &#34;op&#34;: {&#34;params&#34;: [&#34;0.785398163397448&#34;], &#34;type&#34;: &#34;U1&#34;}}, {&#34;args&#34;: [[&#34;p&#34;, [1]]], &#34;op&#34;: {&#34;params&#34;: [&#34;0.785398163397448&#34;], &#34;type&#34;: &#34;U1&#34;}}, {&#34;args&#34;: [[&#34;p&#34;, [2]]], &#34;op&#34;: {&#34;params&#34;: [&#34;0.785398163397448&#34;], &#34;type&#34;: &#34;U1&#34;}}, {&#34;args&#34;: [[&#34;p&#34;, [3]]], &#34;op&#34;: {&#34;params&#34;: [&#34;0.785398163397448&#34;], &#34;type&#34;: &#34;U1&#34;}}, {&#34;args&#34;: [[&#34;p&#34;, [0]]], &#34;op&#34;: {&#34;type&#34;: &#34;H&#34;}}, {&#34;args&#34;: [[&#34;p&#34;, [1]]], &#34;op&#34;: {&#34;type&#34;: &#34;H&#34;}}, {&#34;args&#34;: [[&#34;p&#34;, [2]]], &#34;op&#34;: {&#34;type&#34;: &#34;H&#34;}}, {&#34;args&#34;: [[&#34;p&#34;, [3]]], &#34;op&#34;: {&#34;type&#34;: &#34;H&#34;}}, {&#34;args&#34;: [[&#34;p&#34;, [0]], [&#34;c&#34;, [0]]], &#34;op&#34;: {&#34;type&#34;: &#34;Measure&#34;}}, {&#34;args&#34;: [[&#34;p&#34;, [1]], [&#34;c&#34;, [1]]], &#34;op&#34;: {&#34;type&#34;: &#34;Measure&#34;}}, {&#34;args&#34;: [[&#34;p&#34;, [2]], [&#34;c&#34;, [2]]], &#34;op&#34;: {&#34;type&#34;: &#34;Measure&#34;}}, {&#34;args&#34;: [[&#34;p&#34;, [3]], [&#34;c&#34;, [3]]], &#34;op&#34;: {&#34;type&#34;: &#34;Measure&#34;}}], &#34;created_qubits&#34;: [], &#34;discarded_qubits&#34;: [], &#34;implicit_permutation&#34;: [[[&#34;p&#34;, [0]], [&#34;p&#34;, [0]]], [[&#34;p&#34;, [1]], [&#34;p&#34;, [1]]], [[&#34;p&#34;, [2]], [&#34;p&#34;, [2]]], [[&#34;p&#34;, [3]], [&#34;p&#34;, [3]]]], &#34;phase&#34;: &#34;0.0&#34;, &#34;qubits&#34;: [[&#34;p&#34;, [0]], [&#34;p&#34;, [1]], [&#34;p&#34;, [2]], [&#34;p&#34;, [3]]]}&lt;/div&gt;\n",
       "        &lt;/div&gt;\n",
       "        &lt;circuit-display-container\n",
       "                :circuit-element-str=&#34;&#39;#circuit-json-to-display&#39;&#34;\n",
       "                :init-render-options=&#34;initRenderOptions&#34;\n",
       "        &gt;&lt;/circuit-display-container&gt;\n",
       "    &lt;/div&gt;\n",
       "    &lt;script type=&#34;application/javascript&#34;&gt;\n",
       "      const circuitRendererUid = &#34;b879a975-c204-41fb-a94d-28f729e58733&#34;;\n",
       "      const displayOptions = JSON.parse(&#39;{}&#39;);\n",
       "\n",
       "      // Script to initialise the circuit renderer app\n",
       "\n",
       "const { createApp } = Vue;\n",
       "const circuitDisplayContainer = window[&#34;pytket-circuit-renderer&#34;].default;\n",
       "// Init variables to be shared between circuit display instances\n",
       "if (typeof window.pytketCircuitDisplays === &#34;undefined&#34;) {\n",
       "    window.pytketCircuitDisplays = {};\n",
       "}\n",
       "// Create the root Vue component\n",
       "const app = createApp({\n",
       "    delimiters: [&#39;[[#&#39;, &#39;#]]&#39;],\n",
       "    components: { circuitDisplayContainer },\n",
       "    data () {\n",
       "      return {\n",
       "        initRenderOptions: displayOptions,\n",
       "      }\n",
       "    }\n",
       "})\n",
       "app.config.unwrapInjectedRef = true;\n",
       "app.mount(&#34;#circuit-display-vue-container-&#34;+circuitRendererUid);\n",
       "window.pytketCircuitDisplays[circuitRendererUid] = app;\n",
       "    &lt;/script&gt;\n",
       "\n",
       "\n",
       "\n",
       "&lt;/body&gt;\n",
       "&lt;/html&gt;\n",
       "\"\n",
       "            width=\"100%\" height=\"100%\"\n",
       "            style=\"border: none; outline: none; overflow: auto\"></iframe>\n",
       "</div>\n",
       "\n"
      ],
      "text/plain": [
       "<IPython.core.display.HTML object>"
      ]
     },
     "metadata": {},
     "output_type": "display_data"
    }
   ],
   "source": [
    "def bayes_qpe(prepped_circ: Circuit, cu_circ: Circuit, theta) -> Circuit():\n",
    "    n_qubits = prepped_circ.n_qubits\n",
    "    qpe_circ = Circuit(n_qubits + 1)\n",
    "    \n",
    "    return qpe_circ\n",
    "\n",
    "test_qubits = 4\n",
    "theta = np.pi / 4\n",
    "\n",
    "test_circ = Circuit(test_qubits)\n",
    "prepped_circ = prepare_circ(test_circ)\n",
    "\n",
    "test_u = construct_unitary(test_qubits, theta)\n",
    "qpe_circ = bayes_qpe(prepped_circ, test_u, 0)\n",
    "\n",
    "render_circuit_jupyter(qpe_circ)"
   ]
  },
  {
   "cell_type": "code",
   "execution_count": null,
   "id": "588f4dab-ab7e-40d1-904f-c1e2b5e82653",
   "metadata": {},
   "outputs": [],
   "source": []
  }
 ],
 "metadata": {
  "kernelspec": {
   "display_name": "Python 3 (ipykernel)",
   "language": "python",
   "name": "python3"
  },
  "language_info": {
   "codemirror_mode": {
    "name": "ipython",
    "version": 3
   },
   "file_extension": ".py",
   "mimetype": "text/x-python",
   "name": "python",
   "nbconvert_exporter": "python",
   "pygments_lexer": "ipython3",
   "version": "3.10.10"
  }
 },
 "nbformat": 4,
 "nbformat_minor": 5
}
