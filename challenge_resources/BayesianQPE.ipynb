{
 "cells": [
  {
   "cell_type": "code",
   "execution_count": 2,
   "id": "5f72bbe1-6651-4659-acda-37db48202aec",
   "metadata": {},
   "outputs": [],
   "source": [
    "from pytket.circuit import Circuit, CircBox, QControlBox\n",
    "\n",
    "from pytket.circuit.display import render_circuit_jupyter\n",
    "\n",
    "from pytket.extensions.nexus import NexusBackend, QuantinuumConfig, Nexus\n",
    "\n",
    "from pytket.backends.backendresult import BackendResult\n",
    "from pytket.extensions.qiskit import AerStateBackend\n",
    "\n",
    "import phayes\n",
    "\n",
    "import numpy as np\n",
    "import matplotlib.pyplot as plt"
   ]
  },
  {
   "cell_type": "code",
   "execution_count": 3,
   "id": "b8c126a9-3577-4045-b74c-0e2cbd89b345",
   "metadata": {},
   "outputs": [],
   "source": [
    "# Constructs unitary for an arbitrary size of qubits\n",
    "def construct_unitary(n_qubits: int, theta) -> Circuit():\n",
    "    ### Wait on Carson and Christine ###\n",
    "    u_circ = Circuit(n_qubits)\n",
    "    for i in range(n_qubits):\n",
    "        u_circ.U1(theta, i)\n",
    "    return u_circ"
   ]
  },
  {
   "cell_type": "code",
   "execution_count": 4,
   "id": "46250d0a-a70e-4ca0-945c-8f8b596b6f03",
   "metadata": {},
   "outputs": [],
   "source": [
    "def build_phase_estimation_circuit(\n",
    "    m: int, beta: float, state_prep_circuit: Circuit, unitary_circuit: Circuit\n",
    ") -> Circuit:\n",
    "    # Define a Circuit with a measurement and prep register\n",
    "    qpe_circ: Circuit = Circuit()\n",
    "    n_state_prep_qubits = state_prep_circuit.n_qubits\n",
    "    measurement_register = qpe_circ.add_q_register(\"m\", 1)\n",
    "    state_prep_register = qpe_circ.add_q_register(\"p\", n_state_prep_qubits)\n",
    "    qpe_circ.add_circuit(state_prep_circuit, list(state_prep_register))\n",
    "\n",
    "    # Add Hadamard gate to the measurement register\n",
    "    qpe_circ.H(measurement_register[0])\n",
    "    # Create a controlled unitary with a single control qubit\n",
    "    unitary_circuit.name = \"U\"\n",
    "    controlled_u_gate = QControlBox(CircBox(unitary_circuit), 1)\n",
    "    # Run the controlled unitary m times\n",
    "    for _ in range(m):\n",
    "        qpe_circ.add_qcontrolbox(\n",
    "            controlled_u_gate, list(measurement_register) + list(state_prep_register))\n",
    "\n",
    "    qpe_circ.U1(beta/np.pi, measurement_register[0])\n",
    "    qpe_circ.H(measurement_register[0])\n",
    "    qpe_circ.measure_register(measurement_register, \"c\")\n",
    "    return qpe_circ"
   ]
  },
  {
   "cell_type": "code",
   "execution_count": 5,
   "id": "788535de-69f3-4837-968a-26745bd4cd48",
   "metadata": {},
   "outputs": [],
   "source": [
    "def get_next_digit(m: int, beta: float, state_prep_circuit: Circuit, unitary_circuit: Circuit,\n",
    "                   backend=AerStateBackend(), n_shots=1000):\n",
    "    qpe_circ = build_phase_estimation_circuit(m, beta, state_prep_circuit, unitary_circuit)\n",
    "    compiled_circ = backend.get_compiled_circuit(qpe_circ)\n",
    "    result = backend.run_circuit(compiled_circ, n_shots)\n",
    "    sorted_shots = result.get_counts().most_common()\n",
    "    print(sorted_shots)\n",
    "    return sorted_shots[0][0][0]"
   ]
  },
  {
   "cell_type": "code",
   "execution_count": 6,
   "id": "c1b19313-2d76-4df7-8aa0-6738fe56a3ec",
   "metadata": {},
   "outputs": [],
   "source": [
    "# Prepares circuit by hadamarding all the qubits\n",
    "def prepare_circ(circ: Circuit) -> Circuit():\n",
    "    n_qubits = circ.n_qubits\n",
    "    prepped_circ = Circuit(n_qubits)\n",
    "    \n",
    "    for i in range(n_qubits):\n",
    "        prepped_circ.H(i)\n",
    "    return prepped_circ"
   ]
  },
  {
   "cell_type": "code",
   "execution_count": 7,
   "id": "5ac4a378-0174-451f-9c63-ce8252d7d7d4",
   "metadata": {},
   "outputs": [],
   "source": [
    "def iterated_qpe(state_prep_circuit: Circuit, unitary_circuit: Circuit, precision: int):\n",
    "    digits = []\n",
    "    for i in range(precision-1,-1,-1):\n",
    "        omega = 0\n",
    "        for j in range(len(digits)):\n",
    "            omega = omega - np.pi*digits[j]/2**(j+1)\n",
    "        x = get_next_digit(2**i, omega, state_prep_circuit, unitary_circuit)\n",
    "        digits.insert(0,x)\n",
    "    bitstring = \"\".join([str(bit) for bit in digits])\n",
    "    print(bitstring)\n",
    "    integer_j = int(bitstring, 2)\n",
    "\n",
    "    # Calculate theta estimate\n",
    "    return integer_j / (2 ** len(bitstring))"
   ]
  },
  {
   "cell_type": "code",
   "execution_count": null,
   "id": "35748a91-6a20-45d0-9013-f66d3fff785e",
   "metadata": {},
   "outputs": [],
   "source": [
    "# MAIN \n",
    "\n",
    "test_qubits = 4\n",
    "theta = np.pi / 4\n",
    "\n",
    "test_circ = Circuit(test_qubits)\n",
    "prepped_circ = prepare_circ(test_circ)\n",
    "\n",
    "test_u = construct_unitary(test_qubits, theta)\n",
    "qpe_circ = iterated_qpe(prepped_circ, test_u, 4)\n",
    "\n",
    "print(hello)"
   ]
  },
  {
   "cell_type": "code",
   "execution_count": null,
   "id": "5aa7240d-8d51-4024-80f0-120e0c89b861",
   "metadata": {},
   "outputs": [],
   "source": []
  }
 ],
 "metadata": {
  "kernelspec": {
   "display_name": "Python 3 (ipykernel)",
   "language": "python",
   "name": "python3"
  },
  "language_info": {
   "codemirror_mode": {
    "name": "ipython",
    "version": 3
   },
   "file_extension": ".py",
   "mimetype": "text/x-python",
   "name": "python",
   "nbconvert_exporter": "python",
   "pygments_lexer": "ipython3",
   "version": "3.10.10"
  }
 },
 "nbformat": 4,
 "nbformat_minor": 5
}
