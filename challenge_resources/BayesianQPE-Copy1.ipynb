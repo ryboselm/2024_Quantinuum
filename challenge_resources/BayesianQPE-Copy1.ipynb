{
 "cells": [
  {
   "cell_type": "code",
   "execution_count": null,
   "id": "5f72bbe1-6651-4659-acda-37db48202aec",
   "metadata": {},
   "outputs": [],
   "source": [
    "from pytket.circuit import Circuit, CircBox, QControlBox\n",
    "\n",
    "from pytket.circuit.display import render_circuit_jupyter\n",
    "\n",
    "from pytket.extensions.nexus import NexusBackend, QuantinuumConfig, Nexus\n",
    "\n",
    "from pytket.backends.backendresult import BackendResult\n",
    "from pytket.extensions.qiskit import AerStateBackend\n",
    "\n",
    "import phayes\n",
    "\n",
    "import numpy as np\n",
    "import matplotlib.pyplot as plt"
   ]
  },
  {
   "cell_type": "code",
   "execution_count": null,
   "id": "b8c126a9-3577-4045-b74c-0e2cbd89b345",
   "metadata": {},
   "outputs": [],
   "source": [
    "# Constructs unitary for an arbitrary size of qubits\n",
    "def construct_unitary(n_qubits: int, theta) -> Circuit():\n",
    "    ### Wait on Carson and Christine ###\n",
    "    u_circ = Circuit(n_qubits)\n",
    "    u_circ.U1(theta, 0)\n",
    "    return u_circ"
   ]
  },
  {
   "cell_type": "code",
   "execution_count": 15,
   "id": "46250d0a-a70e-4ca0-945c-8f8b596b6f03",
   "metadata": {},
   "outputs": [],
   "source": [
    "def build_phase_estimation_circuit(\n",
    "    m: int, beta: float, state_prep_circuit: Circuit, unitary_circuit: Circuit\n",
    ") -> Circuit:\n",
    "    # Define a Circuit with a measurement and prep register\n",
    "    qpe_circ: Circuit = Circuit()\n",
    "    n_state_prep_qubits = state_prep_circuit.n_qubits\n",
    "    measurement_register = qpe_circ.add_q_register(\"m\", 1)\n",
    "    state_prep_register = qpe_circ.add_q_register(\"p\", n_state_prep_qubits)\n",
    "    qpe_circ.add_circuit(state_prep_circuit, list(state_prep_register))\n",
    "\n",
    "    # Add Hadamard gate to the measurement register\n",
    "    qpe_circ.H(measurement_register[0])\n",
    "    # Create a controlled unitary with a single control qubit\n",
    "    unitary_circuit.name = \"U\"\n",
    "    controlled_u_gate = QControlBox(CircBox(unitary_circuit), 1)\n",
    "    # Run the controlled unitary m times\n",
    "    for _ in range(m):\n",
    "        qpe_circ.add_qcontrolbox(\n",
    "            controlled_u_gate, list(measurement_register) + list(state_prep_register))\n",
    "\n",
    "    qpe_circ.U1(beta/np.pi, measurement_register[0])\n",
    "    qpe_circ.H(measurement_register[0])\n",
    "    qpe_circ.measure_register(measurement_register, \"c\")\n",
    "    return qpe_circ"
   ]
  },
  {
   "cell_type": "code",
   "execution_count": 16,
   "id": "788535de-69f3-4837-968a-26745bd4cd48",
   "metadata": {},
   "outputs": [],
   "source": [
    "def get_next_digit(m: int, beta: float, state_prep_circuit: Circuit, unitary_circuit: Circuit,\n",
    "                   backend=AerStateBackend(), n_shots=1000):\n",
    "    qpe_circ = build_phase_estimation_circuit(m, beta, state_prep_circuit, unitary_circuit)\n",
    "    compiled_circ = backend.get_compiled_circuit(qpe_circ)\n",
    "    result = backend.run_circuit(compiled_circ, n_shots)\n",
    "    sorted_shots = result.get_counts().most_common()\n",
    "    print(sorted_shots)\n",
    "    return sorted_shots[0][0][0]"
   ]
  },
  {
   "cell_type": "code",
   "execution_count": 17,
   "id": "c1b19313-2d76-4df7-8aa0-6738fe56a3ec",
   "metadata": {},
   "outputs": [],
   "source": [
    "# Prepares circuit by notting all the qubits\n",
    "def prepare_circ(circ: Circuit) -> Circuit():\n",
    "    n_qubits = circ.n_qubits\n",
    "    prepped_circ = Circuit(n_qubits)\n",
    "    \n",
    "    for i in range(n_qubits):\n",
    "        prepped_circ.X(i)\n",
    "    return prepped_circ"
   ]
  },
  {
   "cell_type": "code",
   "execution_count": 18,
   "id": "5ac4a378-0174-451f-9c63-ce8252d7d7d4",
   "metadata": {},
   "outputs": [],
   "source": [
    "def iterated_qpe(state_prep_circuit: Circuit, unitary_circuit: Circuit, precision: int):\n",
    "    digits = []\n",
    "    for i in range(precision-1,-1,-1):\n",
    "        omega = 0\n",
    "        for j in range(len(digits)):\n",
    "            omega = omega - np.pi*digits[j]/2**(j+1)\n",
    "        x = get_next_digit(2**i, omega, state_prep_circuit, unitary_circuit)\n",
    "        digits.insert(0,x)\n",
    "    bitstring = \"\".join([str(bit) for bit in digits])\n",
    "    print(bitstring)\n",
    "    integer_j = int(bitstring, 2)\n",
    "\n",
    "    # Calculate theta estimate\n",
    "    return integer_j / (2 ** len(bitstring))"
   ]
  },
  {
   "cell_type": "code",
   "execution_count": 19,
   "id": "35748a91-6a20-45d0-9013-f66d3fff785e",
   "metadata": {},
   "outputs": [
    {
     "ename": "TypeError",
     "evalue": "U2(): incompatible function arguments. The following argument types are supported:\n    1. (self: pytket._tket.circuit.Circuit, angle0: typing.Union[sympy.Expr, float], angle1: typing.Union[sympy.Expr, float], qubit: int, **kwargs) -> pytket._tket.circuit.Circuit\n    2. (self: pytket._tket.circuit.Circuit, angle0: typing.Union[sympy.Expr, float], angle1: typing.Union[sympy.Expr, float], qubit: pytket._tket.unit_id.Qubit, **kwargs) -> pytket._tket.circuit.Circuit\n\nInvoked with: [H m[0]; X p[0]; X p[1]; X p[2]; X p[3]; qif (m[0] = 1) CircBox p[0], p[1], p[2], p[3]; qif (m[0] = 1) CircBox p[0], p[1], p[2], p[3]; qif (m[0] = 1) CircBox p[0], p[1], p[2], p[3]; qif (m[0] = 1) CircBox p[0], p[1], p[2], p[3]; qif (m[0] = 1) CircBox p[0], p[1], p[2], p[3]; qif (m[0] = 1) CircBox p[0], p[1], p[2], p[3]; qif (m[0] = 1) CircBox p[0], p[1], p[2], p[3]; qif (m[0] = 1) CircBox p[0], p[1], p[2], p[3]; qif (m[0] = 1) CircBox p[0], p[1], p[2], p[3]; qif (m[0] = 1) CircBox p[0], p[1], p[2], p[3]; qif (m[0] = 1) CircBox p[0], p[1], p[2], p[3]; qif (m[0] = 1) CircBox p[0], p[1], p[2], p[3]; qif (m[0] = 1) CircBox p[0], p[1], p[2], p[3]; qif (m[0] = 1) CircBox p[0], p[1], p[2], p[3]; qif (m[0] = 1) CircBox p[0], p[1], p[2], p[3]; qif (m[0] = 1) CircBox p[0], p[1], p[2], p[3]; ], 0.0, m[0]",
     "output_type": "error",
     "traceback": [
      "\u001b[0;31m---------------------------------------------------------------------------\u001b[0m",
      "\u001b[0;31mTypeError\u001b[0m                                 Traceback (most recent call last)",
      "Cell \u001b[0;32mIn[19], line 10\u001b[0m\n\u001b[1;32m      7\u001b[0m prepped_circ \u001b[38;5;241m=\u001b[39m prepare_circ(test_circ)\n\u001b[1;32m      9\u001b[0m test_u \u001b[38;5;241m=\u001b[39m construct_unitary(test_qubits, theta)\n\u001b[0;32m---> 10\u001b[0m estimated_phase \u001b[38;5;241m=\u001b[39m \u001b[43miterated_qpe\u001b[49m\u001b[43m(\u001b[49m\u001b[43mprepped_circ\u001b[49m\u001b[43m,\u001b[49m\u001b[43m \u001b[49m\u001b[43mtest_u\u001b[49m\u001b[43m,\u001b[49m\u001b[43m \u001b[49m\u001b[38;5;241;43m5\u001b[39;49m\u001b[43m)\u001b[49m\n\u001b[1;32m     12\u001b[0m \u001b[38;5;28mprint\u001b[39m(\u001b[38;5;124m\"\u001b[39m\u001b[38;5;124mEstimated Phase:\u001b[39m\u001b[38;5;124m\"\u001b[39m, estimated_phase)\n\u001b[1;32m     13\u001b[0m \u001b[38;5;28mprint\u001b[39m(\u001b[38;5;124m\"\u001b[39m\u001b[38;5;124mTrue Phase:\u001b[39m\u001b[38;5;124m\"\u001b[39m, theta \u001b[38;5;241m/\u001b[39m \u001b[38;5;241m2\u001b[39m)\n",
      "Cell \u001b[0;32mIn[18], line 7\u001b[0m, in \u001b[0;36miterated_qpe\u001b[0;34m(state_prep_circuit, unitary_circuit, precision)\u001b[0m\n\u001b[1;32m      5\u001b[0m     \u001b[38;5;28;01mfor\u001b[39;00m j \u001b[38;5;129;01min\u001b[39;00m \u001b[38;5;28mrange\u001b[39m(\u001b[38;5;28mlen\u001b[39m(digits)):\n\u001b[1;32m      6\u001b[0m         omega \u001b[38;5;241m=\u001b[39m omega \u001b[38;5;241m-\u001b[39m np\u001b[38;5;241m.\u001b[39mpi\u001b[38;5;241m*\u001b[39mdigits[j]\u001b[38;5;241m/\u001b[39m\u001b[38;5;241m2\u001b[39m\u001b[38;5;241m*\u001b[39m\u001b[38;5;241m*\u001b[39m(j\u001b[38;5;241m+\u001b[39m\u001b[38;5;241m1\u001b[39m)\n\u001b[0;32m----> 7\u001b[0m     x \u001b[38;5;241m=\u001b[39m \u001b[43mget_next_digit\u001b[49m\u001b[43m(\u001b[49m\u001b[38;5;241;43m2\u001b[39;49m\u001b[38;5;241;43m*\u001b[39;49m\u001b[38;5;241;43m*\u001b[39;49m\u001b[43mi\u001b[49m\u001b[43m,\u001b[49m\u001b[43m \u001b[49m\u001b[43momega\u001b[49m\u001b[43m,\u001b[49m\u001b[43m \u001b[49m\u001b[43mstate_prep_circuit\u001b[49m\u001b[43m,\u001b[49m\u001b[43m \u001b[49m\u001b[43munitary_circuit\u001b[49m\u001b[43m)\u001b[49m\n\u001b[1;32m      8\u001b[0m     digits\u001b[38;5;241m.\u001b[39minsert(\u001b[38;5;241m0\u001b[39m,x)\n\u001b[1;32m      9\u001b[0m bitstring \u001b[38;5;241m=\u001b[39m \u001b[38;5;124m\"\u001b[39m\u001b[38;5;124m\"\u001b[39m\u001b[38;5;241m.\u001b[39mjoin([\u001b[38;5;28mstr\u001b[39m(bit) \u001b[38;5;28;01mfor\u001b[39;00m bit \u001b[38;5;129;01min\u001b[39;00m digits])\n",
      "Cell \u001b[0;32mIn[16], line 3\u001b[0m, in \u001b[0;36mget_next_digit\u001b[0;34m(m, beta, state_prep_circuit, unitary_circuit, backend, n_shots)\u001b[0m\n\u001b[1;32m      1\u001b[0m \u001b[38;5;28;01mdef\u001b[39;00m \u001b[38;5;21mget_next_digit\u001b[39m(m: \u001b[38;5;28mint\u001b[39m, beta: \u001b[38;5;28mfloat\u001b[39m, state_prep_circuit: Circuit, unitary_circuit: Circuit,\n\u001b[1;32m      2\u001b[0m                    backend\u001b[38;5;241m=\u001b[39mAerStateBackend(), n_shots\u001b[38;5;241m=\u001b[39m\u001b[38;5;241m1000\u001b[39m):\n\u001b[0;32m----> 3\u001b[0m     qpe_circ \u001b[38;5;241m=\u001b[39m \u001b[43mbuild_phase_estimation_circuit\u001b[49m\u001b[43m(\u001b[49m\u001b[43mm\u001b[49m\u001b[43m,\u001b[49m\u001b[43m \u001b[49m\u001b[43mbeta\u001b[49m\u001b[43m,\u001b[49m\u001b[43m \u001b[49m\u001b[43mstate_prep_circuit\u001b[49m\u001b[43m,\u001b[49m\u001b[43m \u001b[49m\u001b[43munitary_circuit\u001b[49m\u001b[43m)\u001b[49m\n\u001b[1;32m      4\u001b[0m     compiled_circ \u001b[38;5;241m=\u001b[39m backend\u001b[38;5;241m.\u001b[39mget_compiled_circuit(qpe_circ)\n\u001b[1;32m      5\u001b[0m     result \u001b[38;5;241m=\u001b[39m backend\u001b[38;5;241m.\u001b[39mrun_circuit(compiled_circ, n_shots)\n",
      "Cell \u001b[0;32mIn[15], line 21\u001b[0m, in \u001b[0;36mbuild_phase_estimation_circuit\u001b[0;34m(m, beta, state_prep_circuit, unitary_circuit)\u001b[0m\n\u001b[1;32m     17\u001b[0m \u001b[38;5;28;01mfor\u001b[39;00m _ \u001b[38;5;129;01min\u001b[39;00m \u001b[38;5;28mrange\u001b[39m(m):\n\u001b[1;32m     18\u001b[0m     qpe_circ\u001b[38;5;241m.\u001b[39madd_qcontrolbox(\n\u001b[1;32m     19\u001b[0m         controlled_u_gate, \u001b[38;5;28mlist\u001b[39m(measurement_register) \u001b[38;5;241m+\u001b[39m \u001b[38;5;28mlist\u001b[39m(state_prep_register))\n\u001b[0;32m---> 21\u001b[0m \u001b[43mqpe_circ\u001b[49m\u001b[38;5;241;43m.\u001b[39;49m\u001b[43mU2\u001b[49m\u001b[43m(\u001b[49m\u001b[43mbeta\u001b[49m\u001b[38;5;241;43m/\u001b[39;49m\u001b[43mnp\u001b[49m\u001b[38;5;241;43m.\u001b[39;49m\u001b[43mpi\u001b[49m\u001b[43m,\u001b[49m\u001b[43m \u001b[49m\u001b[43mmeasurement_register\u001b[49m\u001b[43m[\u001b[49m\u001b[38;5;241;43m0\u001b[39;49m\u001b[43m]\u001b[49m\u001b[43m)\u001b[49m\n\u001b[1;32m     22\u001b[0m qpe_circ\u001b[38;5;241m.\u001b[39mH(measurement_register[\u001b[38;5;241m0\u001b[39m])\n\u001b[1;32m     23\u001b[0m qpe_circ\u001b[38;5;241m.\u001b[39mmeasure_register(measurement_register, \u001b[38;5;124m\"\u001b[39m\u001b[38;5;124mc\u001b[39m\u001b[38;5;124m\"\u001b[39m)\n",
      "\u001b[0;31mTypeError\u001b[0m: U2(): incompatible function arguments. The following argument types are supported:\n    1. (self: pytket._tket.circuit.Circuit, angle0: typing.Union[sympy.Expr, float], angle1: typing.Union[sympy.Expr, float], qubit: int, **kwargs) -> pytket._tket.circuit.Circuit\n    2. (self: pytket._tket.circuit.Circuit, angle0: typing.Union[sympy.Expr, float], angle1: typing.Union[sympy.Expr, float], qubit: pytket._tket.unit_id.Qubit, **kwargs) -> pytket._tket.circuit.Circuit\n\nInvoked with: [H m[0]; X p[0]; X p[1]; X p[2]; X p[3]; qif (m[0] = 1) CircBox p[0], p[1], p[2], p[3]; qif (m[0] = 1) CircBox p[0], p[1], p[2], p[3]; qif (m[0] = 1) CircBox p[0], p[1], p[2], p[3]; qif (m[0] = 1) CircBox p[0], p[1], p[2], p[3]; qif (m[0] = 1) CircBox p[0], p[1], p[2], p[3]; qif (m[0] = 1) CircBox p[0], p[1], p[2], p[3]; qif (m[0] = 1) CircBox p[0], p[1], p[2], p[3]; qif (m[0] = 1) CircBox p[0], p[1], p[2], p[3]; qif (m[0] = 1) CircBox p[0], p[1], p[2], p[3]; qif (m[0] = 1) CircBox p[0], p[1], p[2], p[3]; qif (m[0] = 1) CircBox p[0], p[1], p[2], p[3]; qif (m[0] = 1) CircBox p[0], p[1], p[2], p[3]; qif (m[0] = 1) CircBox p[0], p[1], p[2], p[3]; qif (m[0] = 1) CircBox p[0], p[1], p[2], p[3]; qif (m[0] = 1) CircBox p[0], p[1], p[2], p[3]; qif (m[0] = 1) CircBox p[0], p[1], p[2], p[3]; ], 0.0, m[0]"
     ]
    }
   ],
   "source": [
    "# MAIN \n",
    "\n",
    "test_qubits = 4\n",
    "theta = np.pi / 4\n",
    "\n",
    "test_circ = Circuit(test_qubits)\n",
    "prepped_circ = prepare_circ(test_circ)\n",
    "\n",
    "test_u = construct_unitary(test_qubits, theta)\n",
    "estimated_phase = iterated_qpe(prepped_circ, test_u, 5)\n",
    "\n",
    "print(\"Estimated Phase:\", estimated_phase)\n",
    "print(\"True Phase:\", theta / 2)"
   ]
  },
  {
   "cell_type": "code",
   "execution_count": null,
   "id": "5aa7240d-8d51-4024-80f0-120e0c89b861",
   "metadata": {},
   "outputs": [],
   "source": []
  }
 ],
 "metadata": {
  "kernelspec": {
   "display_name": "Python 3 (ipykernel)",
   "language": "python",
   "name": "python3"
  },
  "language_info": {
   "codemirror_mode": {
    "name": "ipython",
    "version": 3
   },
   "file_extension": ".py",
   "mimetype": "text/x-python",
   "name": "python",
   "nbconvert_exporter": "python",
   "pygments_lexer": "ipython3",
   "version": "3.10.10"
  }
 },
 "nbformat": 4,
 "nbformat_minor": 5
}
