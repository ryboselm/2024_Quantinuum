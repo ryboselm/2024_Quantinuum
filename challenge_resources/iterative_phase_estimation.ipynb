{
 "cells": [
  {
   "cell_type": "markdown",
   "metadata": {},
   "source": [
    "This notebook implements the Iterative Phase Estimation algorithm described in https://www.youtube.com/watch?v=aLSM0_H8hUE"
   ]
  },
  {
   "cell_type": "code",
   "execution_count": 31,
   "metadata": {},
   "outputs": [],
   "source": [
    "from pytket.circuit import Circuit\n",
    "from pytket.circuit.display import render_circuit_jupyter\n",
    "import numpy as np\n",
    "from pytket.circuit import CircBox, QControlBox, DiagonalBox\n",
    "from pytket.extensions.qiskit import AerStateBackend\n",
    "from pytket.extensions.nexus import NexusBackend, QuantinuumConfig, Nexus\n",
    "from pytket.passes import DecomposeBoxes\n",
    "import math\n",
    "from datetime import datetime"
   ]
  },
  {
   "cell_type": "code",
   "execution_count": 37,
   "metadata": {},
   "outputs": [],
   "source": [
    "\"\"\"\n",
    "m: integer number of repetitions\n",
    "omega: amount of Z rotation applied\n",
    "state_prep_circuit: Circuit that prepares an eigenvector of unitary_circuit\n",
    "unitary_circuit: circuit implementing a black box unitary\n",
    "\"\"\"\n",
    "def build_phase_estimation_circuit(\n",
    "    m: int, omega: float, state_prep_circuit: Circuit, unitary_circuit: Circuit\n",
    ") -> Circuit:\n",
    "    # Define a Circuit with a measurement and prep register\n",
    "    qpe_circ: Circuit = Circuit()\n",
    "    n_state_prep_qubits = state_prep_circuit.n_qubits\n",
    "    measurement_register = qpe_circ.add_q_register(\"m\", 1)\n",
    "    state_prep_register = qpe_circ.add_q_register(\"p\", n_state_prep_qubits)\n",
    "    qpe_circ.add_circuit(state_prep_circuit, list(state_prep_register))\n",
    "\n",
    "    # Add Hadamard gate to the measurement register\n",
    "    qpe_circ.H(measurement_register[0])\n",
    "    # Create a controlled unitary with a single control qubit\n",
    "    unitary_circuit.name = \"U\"\n",
    "    controlled_u_gate = QControlBox(CircBox(unitary_circuit), 1)\n",
    "    # Run the controlled unitary m times\n",
    "    for _ in range(m):\n",
    "        qpe_circ.add_qcontrolbox(\n",
    "            controlled_u_gate, list(measurement_register) + list(state_prep_register)\n",
    "        )\n",
    "\n",
    "    qpe_circ.U1(omega/np.pi, measurement_register[0])\n",
    "    qpe_circ.H(measurement_register[0])\n",
    "    qpe_circ.measure_register(measurement_register, \"c\")\n",
    "    return qpe_circ"
   ]
  },
  {
   "cell_type": "code",
   "execution_count": 38,
   "metadata": {},
   "outputs": [],
   "source": [
    "\"\"\"\n",
    "runs phase estimation given the parameters, and then returns which outcome was most frequent\n",
    "out of n_shots\n",
    "\"\"\"\n",
    "def get_next_digit(m: int, omega: float, state_prep_circuit: Circuit, unitary_circuit: Circuit,\n",
    "                   backend=AerStateBackend(), n_shots=100):\n",
    "    qpe_circ = build_phase_estimation_circuit(m, omega, state_prep_circuit, unitary_circuit)\n",
    "    DecomposeBoxes().apply(qpe_circ)\n",
    "    compiled_circ = backend.get_compiled_circuit(qpe_circ)\n",
    "    result = backend.run_circuit(compiled_circ, n_shots)\n",
    "    sorted_shots = result.get_counts().most_common()\n",
    "    print(sorted_shots)\n",
    "    return sorted_shots[0][0][0] "
   ]
  },
  {
   "cell_type": "code",
   "execution_count": 39,
   "metadata": {},
   "outputs": [],
   "source": [
    "\"\"\"\n",
    "iterates on qpe, updating the algorithm adaptively\n",
    "\"\"\"\n",
    "def iterated_qpe(state_prep_circuit: Circuit, unitary_circuit: Circuit, precision: int, backend=AerStateBackend()):\n",
    "    digits = []\n",
    "    for i in range(precision-1,-1,-1):\n",
    "        omega = 0\n",
    "        for j in range(len(digits)):\n",
    "            omega = omega - np.pi*digits[j]/2**(j+1)\n",
    "        x = get_next_digit(2**i, omega, state_prep_circuit, unitary_circuit, backend=backend)\n",
    "        digits.insert(0,x)\n",
    "    bitstring = \"\".join([str(bit) for bit in digits])\n",
    "    print(bitstring)\n",
    "    integer_j = int(bitstring, 2)\n",
    "\n",
    "    # Calculate theta estimate\n",
    "    return integer_j / (2 ** len(bitstring))"
   ]
  },
  {
   "cell_type": "code",
   "execution_count": 40,
   "metadata": {},
   "outputs": [
    {
     "name": "stdout",
     "output_type": "stream",
     "text": [
      "[((0,), 63), ((1,), 37)]\n",
      "[((1,), 93), ((0,), 7)]\n",
      "[((0,), 99), ((1,), 1)]\n",
      "[((0,), 99), ((1,), 1)]\n",
      "[((0,), 100)]\n",
      "[((1,), 99), ((0,), 1)]\n",
      "[((0,), 100)]\n",
      "0100010\n",
      "Estimated Phase: 0.265625\n",
      "True Phase: 0.26268456\n",
      "Error: 0.006\n"
     ]
    }
   ],
   "source": [
    "### SIMPLE EXAMPLE\n",
    "input_angle = 0.52536912 # set this to what you please\n",
    "true_phase = input_angle/2\n",
    "\n",
    "prep_circuit = Circuit(1).X(0)  # prepare the |1> eigenstate of U1\n",
    "unitary_circuit = Circuit(1).U1(input_angle, 0)  # Base unitary for controlled U ops\n",
    "\n",
    "estimated_phase = iterated_qpe(prep_circuit, unitary_circuit, precision=7)\n",
    "\n",
    "print(\"Estimated Phase:\", estimated_phase)\n",
    "print(\"True Phase:\", true_phase)\n",
    "\n",
    "error = round(abs(input_angle - (2 * estimated_phase)), 3)\n",
    "print(\"Error:\",error)"
   ]
  },
  {
   "cell_type": "code",
   "execution_count": 41,
   "metadata": {},
   "outputs": [
    {
     "name": "stdout",
     "output_type": "stream",
     "text": [
      "\n",
      "New project created: Iterative Phase Estimation - p: 2, prec: 3, 2024-02-04 07:10:00.653023\n",
      "\n",
      "Started using project with name: Iterative Phase Estimation - p: 2, prec: 3, 2024-02-04 07:10:00.653023\n",
      "[((0,), 90), ((1,), 10)]\n",
      "[((0,), 95), ((1,), 5)]\n",
      "[((0,), 99), ((1,), 1)]\n",
      "000\n",
      "Estimated Phase: 0.0\n",
      "True Phase: 0\n"
     ]
    }
   ],
   "source": [
    "### Harmonic Oscillator Benchmarking\n",
    "p = 2\n",
    "precision = 3\n",
    "iterative_phase_est = Nexus().new_project(f\"Iterative Phase Estimation - Harmonic Oscillator - p: {p}, prec: {precision}, {datetime.now()}\")\n",
    "\n",
    "configuration = QuantinuumConfig(device_name=\"H1-1E\")\n",
    "quantinuum_backend = NexusBackend(\n",
    "    backend_config= configuration, \n",
    "    project= iterative_phase_est\n",
    ")\n",
    "\n",
    "def create_diagonal_arr(n):\n",
    "    N = int(math.pow(2, n))\n",
    "    return [np.exp(2*math.pi*1j*theta/N) for theta in range(0, N)]\n",
    "prep_circuit = Circuit(p)\n",
    "\n",
    "diagonal_box = DiagonalBox(create_diagonal_arr(p))\n",
    "unitary_circuit = Circuit(p).add_diagonal_box(diagonal_box, range(p))\n",
    "\n",
    "estimated_phase = iterated_qpe(prep_circuit, unitary_circuit, precision=precision,backend = quantinuum_backend)\n",
    "\n",
    "print(\"Estimated Phase:\", estimated_phase)\n",
    "print(\"True Phase:\", 0)"
   ]
  },
  {
   "cell_type": "code",
   "execution_count": null,
   "metadata": {},
   "outputs": [
    {
     "name": "stdout",
     "output_type": "stream",
     "text": [
      "\n",
      "New project created: Iterative Phase Estimation - H2 - statenum: 0, prec: 6, 2024-02-04 07:30:07.415602\n",
      "\n",
      "Started using project with name: Iterative Phase Estimation - H2 - statenum: 0, prec: 6, 2024-02-04 07:30:07.415602\n"
     ]
    }
   ],
   "source": [
    "### H2 Benchmarking\n",
    "from pytket.circuit import QControlBox, CircBox, StatePreparationBox\n",
    "from pytket.utils import QubitPauliOperator, gen_term_sequence_circuit\n",
    "from pytket.pauli import Pauli, QubitPauliString\n",
    "\n",
    "precision = 6\n",
    "state = 0 # which state of the H2 molecule we are calculating for. 0 is the ground state, can choose from [0, 1, 2, 3]\n",
    "iterative_phase_est = Nexus().new_project(f\"Iterative Phase Estimation - H2 - statenum: {state}, prec: {precision}, {datetime.now()}\")\n",
    "\n",
    "configuration = QuantinuumConfig(device_name=\"H1-1E\")\n",
    "quantinuum_backend = NexusBackend(\n",
    "    backend_config= configuration, \n",
    "    project= iterative_phase_est\n",
    ")\n",
    "\n",
    "def build_u_t_approximation() -> Circuit:\n",
    "    # t is pi/2\n",
    "    # 1 Trotter step\n",
    "    \n",
    "    z1 = QubitPauliString({Qubit(0):Pauli.Z})\n",
    "    z2 = QubitPauliString({Qubit(1):Pauli.Z})\n",
    "    I =  QubitPauliString({Qubit(0):Pauli.I, Qubit(1):Pauli.I})\n",
    "    zz = QubitPauliString({Qubit(0):Pauli.Z, Qubit(1):Pauli.Z})\n",
    "    yy = QubitPauliString({Qubit(0):Pauli.Y, Qubit(1):Pauli.Y})\n",
    "\n",
    "    H = QubitPauliOperator({z1: -0.3980, z2: - 0.3980, yy: - 0.1809, zz:0.0112, I:-0.3322})\n",
    "\n",
    "    circ = gen_term_sequence_circuit(H, Circuit(2))\n",
    "        \n",
    "    return circ\n",
    "\n",
    "# circuit to prepare the eigenstate of H for the specified state\n",
    "prep_circuit = Circuit(2)\n",
    "if state == 0:\n",
    "    U = StatePreparationBox(np.array([ -.99376431765,0,0,.11150103564])) #ground eigenstate\n",
    "    prep_circuit.add_state_preparation_box(U, [0,1])\n",
    "    true_EV = -1.1373\n",
    "    #eigenvalue is -1.1373\n",
    "elif state == 1:\n",
    "    prep_circuit.H(0)\n",
    "    prep_circuit.CX(0,1)\n",
    "    prep_circuit.X(1)\n",
    "    true_EV = -0.5243\n",
    "    #eigenvalue is -0.5243\n",
    "elif state == 2:\n",
    "    prep_circuit.H(0)\n",
    "    prep_circuit.CX(0,1)\n",
    "    prep_circuit.X(1)\n",
    "    prep_circuit.Z(1)\n",
    "    true_EV = -0.1625\n",
    "    #eigenvalue is -0.1625\n",
    "else:\n",
    "    U= StatePreparationBox(np.array([.11150103564, 0,0, .99376431765])) #most excited eigenstate\n",
    "    prep_circuit.add_state_preparation_box(U, [0,1])\n",
    "    true_EV = 0.495297\n",
    "    #eigenvalue is 0.495297\n",
    "\n",
    "# Base unitary for controlled U ops\n",
    "unitary_circuit = build_u_t_approximation()\n",
    "\n",
    "estimated_phase = iterated_qpe(prep_circuit, unitary_circuit, precision=precision,backend = quantinuum_backend)\n",
    "\n",
    "print(\"Estimated Phase:\", estimated_phase*-4)\n",
    "print(\"True Phase:\", true_EV)"
   ]
  },
  {
   "cell_type": "code",
   "execution_count": null,
   "metadata": {},
   "outputs": [],
   "source": []
  }
 ],
 "metadata": {
  "kernelspec": {
   "display_name": "Python 3 (ipykernel)",
   "language": "python",
   "name": "python3"
  },
  "language_info": {
   "codemirror_mode": {
    "name": "ipython",
    "version": 3
   },
   "file_extension": ".py",
   "mimetype": "text/x-python",
   "name": "python",
   "nbconvert_exporter": "python",
   "pygments_lexer": "ipython3",
   "version": "3.10.10"
  }
 },
 "nbformat": 4,
 "nbformat_minor": 4
}
