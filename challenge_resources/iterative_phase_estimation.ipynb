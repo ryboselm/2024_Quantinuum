{
 "cells": [
  {
   "cell_type": "markdown",
   "metadata": {},
   "source": [
    "This notebook implements the Iterative Phase Estimation algorithm described in https://www.youtube.com/watch?v=aLSM0_H8hUE"
   ]
  },
  {
   "cell_type": "code",
   "execution_count": 2,
   "metadata": {},
   "outputs": [],
   "source": [
    "from pytket.circuit import Circuit\n",
    "from pytket.circuit.display import render_circuit_jupyter\n",
    "import numpy as np\n",
    "from pytket.circuit import CircBox, QControlBox\n",
    "from pytket.extensions.qiskit import AerStateBackend\n",
    "from pytket.extensions.nexus import NexusBackend, QuantinuumConfig, Nexus"
   ]
  },
  {
   "cell_type": "code",
   "execution_count": 3,
   "metadata": {},
   "outputs": [],
   "source": [
    "\"\"\"\n",
    "m: integer number of repetitions\n",
    "omega: amount of Z rotation applied\n",
    "state_prep_circuit: Circuit that prepares an eigenvector of unitary_circuit\n",
    "unitary_circuit: circuit implementing a black box unitary\n",
    "\"\"\"\n",
    "def build_phase_estimation_circuit(\n",
    "    m: int, omega: float, state_prep_circuit: Circuit, unitary_circuit: Circuit\n",
    ") -> Circuit:\n",
    "    # Define a Circuit with a measurement and prep register\n",
    "    qpe_circ: Circuit = Circuit()\n",
    "    n_state_prep_qubits = state_prep_circuit.n_qubits\n",
    "    measurement_register = qpe_circ.add_q_register(\"m\", 1)\n",
    "    state_prep_register = qpe_circ.add_q_register(\"p\", n_state_prep_qubits)\n",
    "    qpe_circ.add_circuit(state_prep_circuit, list(state_prep_register))\n",
    "\n",
    "    # Add Hadamard gate to the measurement register\n",
    "    qpe_circ.H(measurement_register[0])\n",
    "    # Create a controlled unitary with a single control qubit\n",
    "    unitary_circuit.name = \"U\"\n",
    "    controlled_u_gate = QControlBox(CircBox(unitary_circuit), 1)\n",
    "    # Run the controlled unitary m times\n",
    "    for _ in range(m):\n",
    "        qpe_circ.add_qcontrolbox(\n",
    "            controlled_u_gate, list(measurement_register) + list(state_prep_register)\n",
    "        )\n",
    "    #alternate method of putting m iterations of U inside a single QControlBox\n",
    "    \n",
    "    # Um_circ = Circuit()\n",
    "    # Um_state_register = Um_circ.add_q_register(\"v\", unitary_circuit.n_qubits)\n",
    "    # for _ in range(m):\n",
    "    #     Um_circ.add_circuit(unitary_circuit, list(Um_state_register))\n",
    "    # Um_circ.name = \"U^m\"\n",
    "    # controlled_Um_gate = QControlBox(CircBox(Um_circ), 1)\n",
    "\n",
    "    qpe_circ.U1(omega/np.pi, measurement_register[0])\n",
    "    qpe_circ.H(measurement_register[0])\n",
    "    qpe_circ.measure_register(measurement_register, \"c\")\n",
    "    return qpe_circ"
   ]
  },
  {
   "cell_type": "code",
   "execution_count": 4,
   "metadata": {},
   "outputs": [],
   "source": [
    "\"\"\"\n",
    "runs phase estimation given the parameters, and then returns which outcome was most frequent\n",
    "out of n_shots\n",
    "\"\"\"\n",
    "def get_next_digit(m: int, omega: float, state_prep_circuit: Circuit, unitary_circuit: Circuit,\n",
    "                   backend=AerStateBackend(), n_shots=1000):\n",
    "    qpe_circ = build_phase_estimation_circuit(m, omega, state_prep_circuit, unitary_circuit)\n",
    "    compiled_circ = backend.get_compiled_circuit(qpe_circ)\n",
    "    result = backend.run_circuit(compiled_circ, n_shots)\n",
    "    sorted_shots = result.get_counts().most_common()\n",
    "    print(sorted_shots)\n",
    "    return sorted_shots[0][0][0] "
   ]
  },
  {
   "cell_type": "code",
   "execution_count": 5,
   "metadata": {},
   "outputs": [],
   "source": [
    "\"\"\"\n",
    "iterates on qpe, updating the algorithm adaptively\n",
    "\"\"\"\n",
    "def iterated_qpe(state_prep_circuit: Circuit, unitary_circuit: Circuit, precision: int):\n",
    "    digits = []\n",
    "    for i in range(precision-1,-1,-1):\n",
    "        omega = 0\n",
    "        for j in range(len(digits)):\n",
    "            omega = omega - np.pi*digits[j]/2**(j+1)\n",
    "        x = get_next_digit(2**i, omega, state_prep_circuit, unitary_circuit)\n",
    "        digits.insert(0,x)\n",
    "    bitstring = \"\".join([str(bit) for bit in digits])\n",
    "    print(bitstring)\n",
    "    integer_j = int(bitstring, 2)\n",
    "\n",
    "    # Calculate theta estimate\n",
    "    return integer_j / (2 ** len(bitstring))"
   ]
  },
  {
   "cell_type": "code",
   "execution_count": 7,
   "metadata": {},
   "outputs": [
    {
     "name": "stdout",
     "output_type": "stream",
     "text": [
      "[((1,), 860), ((0,), 140)]\n",
      "[((1,), 959), ((0,), 41)]\n",
      "[((0,), 992), ((1,), 8)]\n",
      "[((0,), 995), ((1,), 5)]\n",
      "[((0,), 1000)]\n",
      "[((0,), 1000)]\n",
      "[((1,), 1000)]\n",
      "[((0,), 1000)]\n",
      "01000011\n",
      "Estimated Phase: 0.26171875\n",
      "True Phase: 0.26268456\n",
      "Error: 0.002\n"
     ]
    }
   ],
   "source": [
    "### SIMPLE EXAMPLE\n",
    "input_angle = 0.52536912 # set this to what you please\n",
    "true_phase = input_angle/2\n",
    "\n",
    "prep_circuit = Circuit(1).X(0)  # prepare the |1> eigenstate of U1\n",
    "unitary_circuit = Circuit(1).U1(input_angle, 0)  # Base unitary for controlled U ops\n",
    "\n",
    "estimated_phase = iterated_qpe(prep_circuit, unitary_circuit, precision=8)\n",
    "\n",
    "print(\"Estimated Phase:\", estimated_phase)\n",
    "print(\"True Phase:\", true_phase)\n",
    "\n",
    "error = round(abs(input_angle - (2 * estimated_phase)), 3)\n",
    "print(\"Error:\",error)"
   ]
  }
 ],
 "metadata": {
  "kernelspec": {
   "display_name": "Python 3 (ipykernel)",
   "language": "python",
   "name": "python3"
  },
  "language_info": {
   "codemirror_mode": {
    "name": "ipython",
    "version": 3
   },
   "file_extension": ".py",
   "mimetype": "text/x-python",
   "name": "python",
   "nbconvert_exporter": "python",
   "pygments_lexer": "ipython3",
   "version": "3.10.10"
  }
 },
 "nbformat": 4,
 "nbformat_minor": 4
}
