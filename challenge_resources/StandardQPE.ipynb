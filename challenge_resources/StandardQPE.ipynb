{
 "cells": [
  {
   "cell_type": "code",
   "execution_count": 33,
   "id": "c4f9540a-64e2-446d-9f83-f500e4528f56",
   "metadata": {},
   "outputs": [],
   "source": [
    "import numpy as np\n",
    "import math\n",
    "import matplotlib as mpl\n",
    "from qiskit import QuantumCircuit, QuantumRegister\n",
    "import qiskit.quantum_info as qi"
   ]
  },
  {
   "cell_type": "code",
   "execution_count": 79,
   "id": "34b62891-a36a-4bb9-8fa0-e6aab0636940",
   "metadata": {},
   "outputs": [],
   "source": [
    "from pytket.circuit import Circuit, DiagonalBox, QControlBox\n",
    "from pytket.circuit.display import render_circuit_jupyter\n",
    "from pytket.circuit import CircBox"
   ]
  },
  {
   "cell_type": "code",
   "execution_count": 159,
   "id": "7f9e89b0-74ec-486f-afdb-8666dce61e93",
   "metadata": {},
   "outputs": [
    {
     "data": {
      "text/html": [
       "\n",
       "\n",
       "\n",
       "\n",
       "\n",
       "\n",
       "<div style=\"resize: vertical; overflow: auto; height: 400px; display: block\">\n",
       "    <iframe srcdoc=\"\n",
       "&lt;!DOCTYPE html&gt;\n",
       "&lt;html lang=&#34;en&#34;&gt;\n",
       "&lt;head&gt;\n",
       "    &lt;meta charset=&#34;UTF-8&#34;&gt;\n",
       "    &lt;!-- Download Vue 3--&gt;\n",
       "&lt;script type=&#34;application/javascript&#34; src=&#34;https://cdn.jsdelivr.net/npm/vue@3&#34;&gt;&lt;/script&gt;\n",
       "&lt;!-- Download Circuit Renderer with styles --&gt;\n",
       "&lt;script type=&#34;application/javascript&#34; src=&#34;https://unpkg.com/pytket-circuit-renderer@0.7/dist/pytket-circuit-renderer.umd.js&#34;&gt;&lt;/script&gt;\n",
       "&lt;link rel=&#34;stylesheet&#34; href=&#34;https://unpkg.com/pytket-circuit-renderer@0.7/dist/pytket-circuit-renderer.css&#34;&gt;\n",
       "&lt;/head&gt;\n",
       "&lt;body&gt;\n",
       "\n",
       "\n",
       "\n",
       "    &lt;div id=&#34;circuit-display-vue-container-62a4bae4-04cd-4c80-8e5d-a9dd17838c66&#34; class=&#34;pytket-circuit-display-container&#34;&gt;\n",
       "        &lt;div style=&#34;display: none&#34;&gt;\n",
       "            &lt;div id=&#34;circuit-json-to-display&#34;&gt;{&#34;bits&#34;: [], &#34;commands&#34;: [{&#34;args&#34;: [[&#34;q&#34;, [1]], [&#34;q&#34;, [4]], [&#34;q&#34;, [5]], [&#34;q&#34;, [6]]], &#34;op&#34;: {&#34;box&#34;: {&#34;control_state&#34;: 1, &#34;id&#34;: &#34;bd7b91e8-16d4-4951-9507-5ee3b033b320&#34;, &#34;n_controls&#34;: 1, &#34;op&#34;: {&#34;box&#34;: {&#34;diagonal&#34;: [[[1.0, 0.0]], [[1.0, 0.0]], [[1.0, 0.0]], [[1.0, 0.0]], [[1.0, 0.0]], [[1.0, 0.0]], [[1.0, 0.0]], [[1.0, 0.0]]], &#34;id&#34;: &#34;e417bb17-0cfe-433a-87e3-a68cbd3de4ee&#34;, &#34;type&#34;: &#34;DiagonalBox&#34;, &#34;upper_triangle&#34;: true}, &#34;type&#34;: &#34;DiagonalBox&#34;}, &#34;type&#34;: &#34;QControlBox&#34;}, &#34;type&#34;: &#34;QControlBox&#34;}}], &#34;created_qubits&#34;: [], &#34;discarded_qubits&#34;: [], &#34;implicit_permutation&#34;: [[[&#34;q&#34;, [0]], [&#34;q&#34;, [0]]], [[&#34;q&#34;, [1]], [&#34;q&#34;, [1]]], [[&#34;q&#34;, [2]], [&#34;q&#34;, [2]]], [[&#34;q&#34;, [3]], [&#34;q&#34;, [3]]], [[&#34;q&#34;, [4]], [&#34;q&#34;, [4]]], [[&#34;q&#34;, [5]], [&#34;q&#34;, [5]]], [[&#34;q&#34;, [6]], [&#34;q&#34;, [6]]]], &#34;phase&#34;: &#34;0.0&#34;, &#34;qubits&#34;: [[&#34;q&#34;, [0]], [&#34;q&#34;, [1]], [&#34;q&#34;, [2]], [&#34;q&#34;, [3]], [&#34;q&#34;, [4]], [&#34;q&#34;, [5]], [&#34;q&#34;, [6]]]}&lt;/div&gt;\n",
       "        &lt;/div&gt;\n",
       "        &lt;circuit-display-container\n",
       "                :circuit-element-str=&#34;&#39;#circuit-json-to-display&#39;&#34;\n",
       "                :init-render-options=&#34;initRenderOptions&#34;\n",
       "        &gt;&lt;/circuit-display-container&gt;\n",
       "    &lt;/div&gt;\n",
       "    &lt;script type=&#34;application/javascript&#34;&gt;\n",
       "      const circuitRendererUid = &#34;62a4bae4-04cd-4c80-8e5d-a9dd17838c66&#34;;\n",
       "      const displayOptions = JSON.parse(&#39;{}&#39;);\n",
       "\n",
       "      // Script to initialise the circuit renderer app\n",
       "\n",
       "const { createApp } = Vue;\n",
       "const circuitDisplayContainer = window[&#34;pytket-circuit-renderer&#34;].default;\n",
       "// Init variables to be shared between circuit display instances\n",
       "if (typeof window.pytketCircuitDisplays === &#34;undefined&#34;) {\n",
       "    window.pytketCircuitDisplays = {};\n",
       "}\n",
       "// Create the root Vue component\n",
       "const app = createApp({\n",
       "    delimiters: [&#39;[[#&#39;, &#39;#]]&#39;],\n",
       "    components: { circuitDisplayContainer },\n",
       "    data () {\n",
       "      return {\n",
       "        initRenderOptions: displayOptions,\n",
       "      }\n",
       "    }\n",
       "})\n",
       "app.config.unwrapInjectedRef = true;\n",
       "app.mount(&#34;#circuit-display-vue-container-&#34;+circuitRendererUid);\n",
       "window.pytketCircuitDisplays[circuitRendererUid] = app;\n",
       "    &lt;/script&gt;\n",
       "\n",
       "\n",
       "\n",
       "&lt;/body&gt;\n",
       "&lt;/html&gt;\n",
       "\"\n",
       "            width=\"100%\" height=\"100%\"\n",
       "            style=\"border: none; outline: none; overflow: auto\"></iframe>\n",
       "</div>\n",
       "\n"
      ],
      "text/plain": [
       "<IPython.core.display.HTML object>"
      ]
     },
     "metadata": {},
     "output_type": "display_data"
    }
   ],
   "source": [
    "circ = Circuit(n+3)\n",
    "diagonal_box = DiagonalBox(diagonal)\n",
    "controlled_u_gate = QControlBox(diagonal_box, 1)\n",
    "circ.add_gate(controlled_u_gate, [1,4,5,6])\n",
    "render_circuit_jupyter(circ)"
   ]
  },
  {
   "cell_type": "code",
   "execution_count": 145,
   "id": "ff0a20ab-e47a-4494-8bb1-17dfde1238ca",
   "metadata": {},
   "outputs": [],
   "source": [
    "# prep_circuit = Circuit(1).X(0)\n",
    "# unitary_circuit = Circuit(1).U1(input_angle, 0)\n",
    "\n",
    "def create_diagonal_arr(n):\n",
    "    N = int(math.pow(2, n))\n",
    "    return [np.exp(2*math.pi*1j*theta/N) for theta in range(0, N)]\n",
    "\n",
    "def create_prep_circuit(state: int, p: int):\n",
    "    max_decimal = 2**p - 1\n",
    "    min_binary_digits = max_decimal.bit_length()\n",
    "    num_state = state\n",
    "    if num_state > max_decimal:\n",
    "        return None\n",
    "    else:\n",
    "        # Convert number to binary and ensure it has p digits\n",
    "        binary = format(num_state, f\"0{max(min_binary_digits, p)}b\")\n",
    "    prep_circ: Circuit = Circuit(p)\n",
    "    binary = binary[::-1]\n",
    "    for i in range(len(binary)):\n",
    "        ch = binary[i]\n",
    "        if ch == '1':\n",
    "            prep_circ.X(i)\n",
    "    return prep_circ\n",
    "\n",
    "def build_qft_circuit(n_qubits: int) -> Circuit:\n",
    "    circ = Circuit(n_qubits, name=\"QFT\")\n",
    "    for i in range(n_qubits):\n",
    "        circ.H(i)\n",
    "        for j in range(i + 1, n_qubits):\n",
    "            circ.CU1(1 / 2 ** (j - i), j, i)\n",
    "    for k in range(0, n_qubits // 2):\n",
    "        circ.SWAP(k, n_qubits - k - 1)\n",
    "        \n",
    "    return circ"
   ]
  },
  {
   "cell_type": "code",
   "execution_count": 114,
   "id": "999c6e30-f018-4896-8ab7-034aeaa7b033",
   "metadata": {},
   "outputs": [],
   "source": []
  },
  {
   "cell_type": "code",
   "execution_count": 115,
   "id": "054d32bc-f5b6-49e1-b393-9115975dc0a1",
   "metadata": {},
   "outputs": [
    {
     "data": {
      "text/html": [
       "\n",
       "\n",
       "\n",
       "\n",
       "\n",
       "\n",
       "<div style=\"resize: vertical; overflow: auto; height: 400px; display: block\">\n",
       "    <iframe srcdoc=\"\n",
       "&lt;!DOCTYPE html&gt;\n",
       "&lt;html lang=&#34;en&#34;&gt;\n",
       "&lt;head&gt;\n",
       "    &lt;meta charset=&#34;UTF-8&#34;&gt;\n",
       "    &lt;!-- Download Vue 3--&gt;\n",
       "&lt;script type=&#34;application/javascript&#34; src=&#34;https://cdn.jsdelivr.net/npm/vue@3&#34;&gt;&lt;/script&gt;\n",
       "&lt;!-- Download Circuit Renderer with styles --&gt;\n",
       "&lt;script type=&#34;application/javascript&#34; src=&#34;https://unpkg.com/pytket-circuit-renderer@0.7/dist/pytket-circuit-renderer.umd.js&#34;&gt;&lt;/script&gt;\n",
       "&lt;link rel=&#34;stylesheet&#34; href=&#34;https://unpkg.com/pytket-circuit-renderer@0.7/dist/pytket-circuit-renderer.css&#34;&gt;\n",
       "&lt;/head&gt;\n",
       "&lt;body&gt;\n",
       "\n",
       "\n",
       "\n",
       "    &lt;div id=&#34;circuit-display-vue-container-da5f214a-5978-443b-9644-594bf0f1f845&#34; class=&#34;pytket-circuit-display-container&#34;&gt;\n",
       "        &lt;div style=&#34;display: none&#34;&gt;\n",
       "            &lt;div id=&#34;circuit-json-to-display&#34;&gt;{&#34;bits&#34;: [], &#34;commands&#34;: [{&#34;args&#34;: [[&#34;q&#34;, [1]]], &#34;op&#34;: {&#34;type&#34;: &#34;X&#34;}}], &#34;created_qubits&#34;: [], &#34;discarded_qubits&#34;: [], &#34;implicit_permutation&#34;: [[[&#34;q&#34;, [0]], [&#34;q&#34;, [0]]], [[&#34;q&#34;, [1]], [&#34;q&#34;, [1]]], [[&#34;q&#34;, [2]], [&#34;q&#34;, [2]]], [[&#34;q&#34;, [3]], [&#34;q&#34;, [3]]], [[&#34;q&#34;, [4]], [&#34;q&#34;, [4]]]], &#34;phase&#34;: &#34;0.0&#34;, &#34;qubits&#34;: [[&#34;q&#34;, [0]], [&#34;q&#34;, [1]], [&#34;q&#34;, [2]], [&#34;q&#34;, [3]], [&#34;q&#34;, [4]]]}&lt;/div&gt;\n",
       "        &lt;/div&gt;\n",
       "        &lt;circuit-display-container\n",
       "                :circuit-element-str=&#34;&#39;#circuit-json-to-display&#39;&#34;\n",
       "                :init-render-options=&#34;initRenderOptions&#34;\n",
       "        &gt;&lt;/circuit-display-container&gt;\n",
       "    &lt;/div&gt;\n",
       "    &lt;script type=&#34;application/javascript&#34;&gt;\n",
       "      const circuitRendererUid = &#34;da5f214a-5978-443b-9644-594bf0f1f845&#34;;\n",
       "      const displayOptions = JSON.parse(&#39;{}&#39;);\n",
       "\n",
       "      // Script to initialise the circuit renderer app\n",
       "\n",
       "const { createApp } = Vue;\n",
       "const circuitDisplayContainer = window[&#34;pytket-circuit-renderer&#34;].default;\n",
       "// Init variables to be shared between circuit display instances\n",
       "if (typeof window.pytketCircuitDisplays === &#34;undefined&#34;) {\n",
       "    window.pytketCircuitDisplays = {};\n",
       "}\n",
       "// Create the root Vue component\n",
       "const app = createApp({\n",
       "    delimiters: [&#39;[[#&#39;, &#39;#]]&#39;],\n",
       "    components: { circuitDisplayContainer },\n",
       "    data () {\n",
       "      return {\n",
       "        initRenderOptions: displayOptions,\n",
       "      }\n",
       "    }\n",
       "})\n",
       "app.config.unwrapInjectedRef = true;\n",
       "app.mount(&#34;#circuit-display-vue-container-&#34;+circuitRendererUid);\n",
       "window.pytketCircuitDisplays[circuitRendererUid] = app;\n",
       "    &lt;/script&gt;\n",
       "\n",
       "\n",
       "\n",
       "&lt;/body&gt;\n",
       "&lt;/html&gt;\n",
       "\"\n",
       "            width=\"100%\" height=\"100%\"\n",
       "            style=\"border: none; outline: none; overflow: auto\"></iframe>\n",
       "</div>\n",
       "\n"
      ],
      "text/plain": [
       "<IPython.core.display.HTML object>"
      ]
     },
     "metadata": {},
     "output_type": "display_data"
    }
   ],
   "source": [
    "render_circuit_jupyter(prep_circ)"
   ]
  },
  {
   "cell_type": "code",
   "execution_count": 180,
   "id": "c45be52e-cb64-4084-9e0b-737dbc45e5c2",
   "metadata": {},
   "outputs": [],
   "source": [
    "def create_textbook_QPE(\n",
    "    m: int, p: int, state_prep_circuit: Circuit, diagonal) -> Circuit:\n",
    "    # Define a Circuit with a measurement and prep register\n",
    "    qpe_circ: Circuit = Circuit()\n",
    "    #n_state_prep_qubits = state_prep_circuit.n_qubits\n",
    "    measurement_register = qpe_circ.add_q_register(\"m\", m)\n",
    "    state_prep_register = qpe_circ.add_q_register(\"p\", p)\n",
    "    qpe_circ.add_circuit(state_prep_circuit, list(state_prep_register))\n",
    "\n",
    "    # Create a controlled unitary with a single control qubit\n",
    "    # unitary_circuit.name = \"U\"\n",
    "    # controlled_u_gate = QControlBox(CircBox(unitary_circuit), 1)\n",
    "\n",
    "    # Create a controlled unitary with a single control qubit\n",
    "    circ = Circuit(n, name=\"U\")\n",
    "    diagonal_box = DiagonalBox(diagonal)\n",
    "    controlled_u_gate = QControlBox(diagonal_box, 1)\n",
    "\n",
    "    # Add Hadamard gates to every qubit in the measurement register\n",
    "    for m_qubit in measurement_register:\n",
    "        qpe_circ.H(m_qubit)\n",
    "\n",
    "    # Add all (2**n_measurement_qubits - 1) of the controlled unitaries sequentially\n",
    "    p_registers = [i + m for i in range(p)]\n",
    "    for i in range(m):\n",
    "        control_index = m - i - 1\n",
    "        # print(control_index)\n",
    "        # measure_i = measurement_register[control_index]\n",
    "        control_qubit = [measurement_register[control_index]]\n",
    "        combined = control_qubit + list(state_prep_register)\n",
    "        #combined = [control_index]+p_registers\n",
    "        print(combined)\n",
    "        for _ in range(2**i):\n",
    "            qpe_circ.add_gate(controlled_u_gate, combined)\n",
    "            # qpe_circ.add_qcontrolbox(\n",
    "            #     controlled_u_gate, control_qubit + list(state_prep_register)\n",
    "            # )\n",
    "\n",
    "    # Finally, append the inverse qft and measure the qubits\n",
    "    qft_box = CircBox(build_qft_circuit(m))\n",
    "    inverse_qft_box = qft_box.dagger\n",
    "    qpe_circ.add_circbox(inverse_qft_box, list(measurement_register))\n",
    "    qpe_circ.measure_register(measurement_register, \"c\")\n",
    "    return qpe_circ"
   ]
  },
  {
   "cell_type": "code",
   "execution_count": 200,
   "id": "f4503eef-4b3b-4288-9644-e23174e3c984",
   "metadata": {},
   "outputs": [
    {
     "name": "stdout",
     "output_type": "stream",
     "text": [
      "[m[3], p[0], p[1]]\n",
      "[m[2], p[0], p[1]]\n",
      "[m[1], p[0], p[1]]\n",
      "[m[0], p[0], p[1]]\n"
     ]
    }
   ],
   "source": [
    "# DEFINE AND RUN CIRCUIT HERE\n",
    "state = 3\n",
    "p = 2\n",
    "m = 4\n",
    "prep_circ = create_prep_circuit(state, p)\n",
    "diag = create_diagonal_arr(p)\n",
    "circuit = create_textbook_QPE(m, p, prep_circ, diag)"
   ]
  },
  {
   "cell_type": "code",
   "execution_count": 201,
   "id": "f9979edc-c0ba-4dfd-990c-e55087bddd31",
   "metadata": {},
   "outputs": [
    {
     "data": {
      "text/html": [
       "\n",
       "\n",
       "\n",
       "\n",
       "\n",
       "\n",
       "<div style=\"resize: vertical; overflow: auto; height: 400px; display: block\">\n",
       "    <iframe srcdoc=\"\n",
       "&lt;!DOCTYPE html&gt;\n",
       "&lt;html lang=&#34;en&#34;&gt;\n",
       "&lt;head&gt;\n",
       "    &lt;meta charset=&#34;UTF-8&#34;&gt;\n",
       "    &lt;!-- Download Vue 3--&gt;\n",
       "&lt;script type=&#34;application/javascript&#34; src=&#34;https://cdn.jsdelivr.net/npm/vue@3&#34;&gt;&lt;/script&gt;\n",
       "&lt;!-- Download Circuit Renderer with styles --&gt;\n",
       "&lt;script type=&#34;application/javascript&#34; src=&#34;https://unpkg.com/pytket-circuit-renderer@0.7/dist/pytket-circuit-renderer.umd.js&#34;&gt;&lt;/script&gt;\n",
       "&lt;link rel=&#34;stylesheet&#34; href=&#34;https://unpkg.com/pytket-circuit-renderer@0.7/dist/pytket-circuit-renderer.css&#34;&gt;\n",
       "&lt;/head&gt;\n",
       "&lt;body&gt;\n",
       "\n",
       "\n",
       "\n",
       "    &lt;div id=&#34;circuit-display-vue-container-b0f5c53d-4b52-422c-927e-817cdf395e11&#34; class=&#34;pytket-circuit-display-container&#34;&gt;\n",
       "        &lt;div style=&#34;display: none&#34;&gt;\n",
       "            &lt;div id=&#34;circuit-json-to-display&#34;&gt;{&#34;bits&#34;: [[&#34;c&#34;, [0]], [&#34;c&#34;, [1]], [&#34;c&#34;, [2]], [&#34;c&#34;, [3]]], &#34;commands&#34;: [{&#34;args&#34;: [[&#34;m&#34;, [0]]], &#34;op&#34;: {&#34;type&#34;: &#34;H&#34;}}, {&#34;args&#34;: [[&#34;m&#34;, [1]]], &#34;op&#34;: {&#34;type&#34;: &#34;H&#34;}}, {&#34;args&#34;: [[&#34;m&#34;, [2]]], &#34;op&#34;: {&#34;type&#34;: &#34;H&#34;}}, {&#34;args&#34;: [[&#34;m&#34;, [3]]], &#34;op&#34;: {&#34;type&#34;: &#34;H&#34;}}, {&#34;args&#34;: [[&#34;p&#34;, [0]]], &#34;op&#34;: {&#34;type&#34;: &#34;X&#34;}}, {&#34;args&#34;: [[&#34;p&#34;, [1]]], &#34;op&#34;: {&#34;type&#34;: &#34;X&#34;}}, {&#34;args&#34;: [[&#34;m&#34;, [3]], [&#34;p&#34;, [0]], [&#34;p&#34;, [1]]], &#34;op&#34;: {&#34;box&#34;: {&#34;control_state&#34;: 1, &#34;id&#34;: &#34;4b31f0a3-5755-4dd7-b5cd-6782e2112670&#34;, &#34;n_controls&#34;: 1, &#34;op&#34;: {&#34;box&#34;: {&#34;diagonal&#34;: [[[1.0, 0.0]], [[6.123233995736766e-17, 1.0]], [[-1.0, 1.2246467991473532e-16]], [[-1.8369701987210297e-16, -1.0]]], &#34;id&#34;: &#34;2fee987f-11b3-40ce-891a-72e2e69edea3&#34;, &#34;type&#34;: &#34;DiagonalBox&#34;, &#34;upper_triangle&#34;: true}, &#34;type&#34;: &#34;DiagonalBox&#34;}, &#34;type&#34;: &#34;QControlBox&#34;}, &#34;type&#34;: &#34;QControlBox&#34;}}, {&#34;args&#34;: [[&#34;m&#34;, [2]], [&#34;p&#34;, [0]], [&#34;p&#34;, [1]]], &#34;op&#34;: {&#34;box&#34;: {&#34;control_state&#34;: 1, &#34;id&#34;: &#34;4b31f0a3-5755-4dd7-b5cd-6782e2112670&#34;, &#34;n_controls&#34;: 1, &#34;op&#34;: {&#34;box&#34;: {&#34;diagonal&#34;: [[[1.0, 0.0]], [[6.123233995736766e-17, 1.0]], [[-1.0, 1.2246467991473532e-16]], [[-1.8369701987210297e-16, -1.0]]], &#34;id&#34;: &#34;2fee987f-11b3-40ce-891a-72e2e69edea3&#34;, &#34;type&#34;: &#34;DiagonalBox&#34;, &#34;upper_triangle&#34;: true}, &#34;type&#34;: &#34;DiagonalBox&#34;}, &#34;type&#34;: &#34;QControlBox&#34;}, &#34;type&#34;: &#34;QControlBox&#34;}}, {&#34;args&#34;: [[&#34;m&#34;, [2]], [&#34;p&#34;, [0]], [&#34;p&#34;, [1]]], &#34;op&#34;: {&#34;box&#34;: {&#34;control_state&#34;: 1, &#34;id&#34;: &#34;4b31f0a3-5755-4dd7-b5cd-6782e2112670&#34;, &#34;n_controls&#34;: 1, &#34;op&#34;: {&#34;box&#34;: {&#34;diagonal&#34;: [[[1.0, 0.0]], [[6.123233995736766e-17, 1.0]], [[-1.0, 1.2246467991473532e-16]], [[-1.8369701987210297e-16, -1.0]]], &#34;id&#34;: &#34;2fee987f-11b3-40ce-891a-72e2e69edea3&#34;, &#34;type&#34;: &#34;DiagonalBox&#34;, &#34;upper_triangle&#34;: true}, &#34;type&#34;: &#34;DiagonalBox&#34;}, &#34;type&#34;: &#34;QControlBox&#34;}, &#34;type&#34;: &#34;QControlBox&#34;}}, {&#34;args&#34;: [[&#34;m&#34;, [1]], [&#34;p&#34;, [0]], [&#34;p&#34;, [1]]], &#34;op&#34;: {&#34;box&#34;: {&#34;control_state&#34;: 1, &#34;id&#34;: &#34;4b31f0a3-5755-4dd7-b5cd-6782e2112670&#34;, &#34;n_controls&#34;: 1, &#34;op&#34;: {&#34;box&#34;: {&#34;diagonal&#34;: [[[1.0, 0.0]], [[6.123233995736766e-17, 1.0]], [[-1.0, 1.2246467991473532e-16]], [[-1.8369701987210297e-16, -1.0]]], &#34;id&#34;: &#34;2fee987f-11b3-40ce-891a-72e2e69edea3&#34;, &#34;type&#34;: &#34;DiagonalBox&#34;, &#34;upper_triangle&#34;: true}, &#34;type&#34;: &#34;DiagonalBox&#34;}, &#34;type&#34;: &#34;QControlBox&#34;}, &#34;type&#34;: &#34;QControlBox&#34;}}, {&#34;args&#34;: [[&#34;m&#34;, [1]], [&#34;p&#34;, [0]], [&#34;p&#34;, [1]]], &#34;op&#34;: {&#34;box&#34;: {&#34;control_state&#34;: 1, &#34;id&#34;: &#34;4b31f0a3-5755-4dd7-b5cd-6782e2112670&#34;, &#34;n_controls&#34;: 1, &#34;op&#34;: {&#34;box&#34;: {&#34;diagonal&#34;: [[[1.0, 0.0]], [[6.123233995736766e-17, 1.0]], [[-1.0, 1.2246467991473532e-16]], [[-1.8369701987210297e-16, -1.0]]], &#34;id&#34;: &#34;2fee987f-11b3-40ce-891a-72e2e69edea3&#34;, &#34;type&#34;: &#34;DiagonalBox&#34;, &#34;upper_triangle&#34;: true}, &#34;type&#34;: &#34;DiagonalBox&#34;}, &#34;type&#34;: &#34;QControlBox&#34;}, &#34;type&#34;: &#34;QControlBox&#34;}}, {&#34;args&#34;: [[&#34;m&#34;, [1]], [&#34;p&#34;, [0]], [&#34;p&#34;, [1]]], &#34;op&#34;: {&#34;box&#34;: {&#34;control_state&#34;: 1, &#34;id&#34;: &#34;4b31f0a3-5755-4dd7-b5cd-6782e2112670&#34;, &#34;n_controls&#34;: 1, &#34;op&#34;: {&#34;box&#34;: {&#34;diagonal&#34;: [[[1.0, 0.0]], [[6.123233995736766e-17, 1.0]], [[-1.0, 1.2246467991473532e-16]], [[-1.8369701987210297e-16, -1.0]]], &#34;id&#34;: &#34;2fee987f-11b3-40ce-891a-72e2e69edea3&#34;, &#34;type&#34;: &#34;DiagonalBox&#34;, &#34;upper_triangle&#34;: true}, &#34;type&#34;: &#34;DiagonalBox&#34;}, &#34;type&#34;: &#34;QControlBox&#34;}, &#34;type&#34;: &#34;QControlBox&#34;}}, {&#34;args&#34;: [[&#34;m&#34;, [1]], [&#34;p&#34;, [0]], [&#34;p&#34;, [1]]], &#34;op&#34;: {&#34;box&#34;: {&#34;control_state&#34;: 1, &#34;id&#34;: &#34;4b31f0a3-5755-4dd7-b5cd-6782e2112670&#34;, &#34;n_controls&#34;: 1, &#34;op&#34;: {&#34;box&#34;: {&#34;diagonal&#34;: [[[1.0, 0.0]], [[6.123233995736766e-17, 1.0]], [[-1.0, 1.2246467991473532e-16]], [[-1.8369701987210297e-16, -1.0]]], &#34;id&#34;: &#34;2fee987f-11b3-40ce-891a-72e2e69edea3&#34;, &#34;type&#34;: &#34;DiagonalBox&#34;, &#34;upper_triangle&#34;: true}, &#34;type&#34;: &#34;DiagonalBox&#34;}, &#34;type&#34;: &#34;QControlBox&#34;}, &#34;type&#34;: &#34;QControlBox&#34;}}, {&#34;args&#34;: [[&#34;m&#34;, [0]], [&#34;p&#34;, [0]], [&#34;p&#34;, [1]]], &#34;op&#34;: {&#34;box&#34;: {&#34;control_state&#34;: 1, &#34;id&#34;: &#34;4b31f0a3-5755-4dd7-b5cd-6782e2112670&#34;, &#34;n_controls&#34;: 1, &#34;op&#34;: {&#34;box&#34;: {&#34;diagonal&#34;: [[[1.0, 0.0]], [[6.123233995736766e-17, 1.0]], [[-1.0, 1.2246467991473532e-16]], [[-1.8369701987210297e-16, -1.0]]], &#34;id&#34;: &#34;2fee987f-11b3-40ce-891a-72e2e69edea3&#34;, &#34;type&#34;: &#34;DiagonalBox&#34;, &#34;upper_triangle&#34;: true}, &#34;type&#34;: &#34;DiagonalBox&#34;}, &#34;type&#34;: &#34;QControlBox&#34;}, &#34;type&#34;: &#34;QControlBox&#34;}}, {&#34;args&#34;: [[&#34;m&#34;, [0]], [&#34;p&#34;, [0]], [&#34;p&#34;, [1]]], &#34;op&#34;: {&#34;box&#34;: {&#34;control_state&#34;: 1, &#34;id&#34;: &#34;4b31f0a3-5755-4dd7-b5cd-6782e2112670&#34;, &#34;n_controls&#34;: 1, &#34;op&#34;: {&#34;box&#34;: {&#34;diagonal&#34;: [[[1.0, 0.0]], [[6.123233995736766e-17, 1.0]], [[-1.0, 1.2246467991473532e-16]], [[-1.8369701987210297e-16, -1.0]]], &#34;id&#34;: &#34;2fee987f-11b3-40ce-891a-72e2e69edea3&#34;, &#34;type&#34;: &#34;DiagonalBox&#34;, &#34;upper_triangle&#34;: true}, &#34;type&#34;: &#34;DiagonalBox&#34;}, &#34;type&#34;: &#34;QControlBox&#34;}, &#34;type&#34;: &#34;QControlBox&#34;}}, {&#34;args&#34;: [[&#34;m&#34;, [0]], [&#34;p&#34;, [0]], [&#34;p&#34;, [1]]], &#34;op&#34;: {&#34;box&#34;: {&#34;control_state&#34;: 1, &#34;id&#34;: &#34;4b31f0a3-5755-4dd7-b5cd-6782e2112670&#34;, &#34;n_controls&#34;: 1, &#34;op&#34;: {&#34;box&#34;: {&#34;diagonal&#34;: [[[1.0, 0.0]], [[6.123233995736766e-17, 1.0]], [[-1.0, 1.2246467991473532e-16]], [[-1.8369701987210297e-16, -1.0]]], &#34;id&#34;: &#34;2fee987f-11b3-40ce-891a-72e2e69edea3&#34;, &#34;type&#34;: &#34;DiagonalBox&#34;, &#34;upper_triangle&#34;: true}, &#34;type&#34;: &#34;DiagonalBox&#34;}, &#34;type&#34;: &#34;QControlBox&#34;}, &#34;type&#34;: &#34;QControlBox&#34;}}, {&#34;args&#34;: [[&#34;m&#34;, [0]], [&#34;p&#34;, [0]], [&#34;p&#34;, [1]]], &#34;op&#34;: {&#34;box&#34;: {&#34;control_state&#34;: 1, &#34;id&#34;: &#34;4b31f0a3-5755-4dd7-b5cd-6782e2112670&#34;, &#34;n_controls&#34;: 1, &#34;op&#34;: {&#34;box&#34;: {&#34;diagonal&#34;: [[[1.0, 0.0]], [[6.123233995736766e-17, 1.0]], [[-1.0, 1.2246467991473532e-16]], [[-1.8369701987210297e-16, -1.0]]], &#34;id&#34;: &#34;2fee987f-11b3-40ce-891a-72e2e69edea3&#34;, &#34;type&#34;: &#34;DiagonalBox&#34;, &#34;upper_triangle&#34;: true}, &#34;type&#34;: &#34;DiagonalBox&#34;}, &#34;type&#34;: &#34;QControlBox&#34;}, &#34;type&#34;: &#34;QControlBox&#34;}}, {&#34;args&#34;: [[&#34;m&#34;, [0]], [&#34;p&#34;, [0]], [&#34;p&#34;, [1]]], &#34;op&#34;: {&#34;box&#34;: {&#34;control_state&#34;: 1, &#34;id&#34;: &#34;4b31f0a3-5755-4dd7-b5cd-6782e2112670&#34;, &#34;n_controls&#34;: 1, &#34;op&#34;: {&#34;box&#34;: {&#34;diagonal&#34;: [[[1.0, 0.0]], [[6.123233995736766e-17, 1.0]], [[-1.0, 1.2246467991473532e-16]], [[-1.8369701987210297e-16, -1.0]]], &#34;id&#34;: &#34;2fee987f-11b3-40ce-891a-72e2e69edea3&#34;, &#34;type&#34;: &#34;DiagonalBox&#34;, &#34;upper_triangle&#34;: true}, &#34;type&#34;: &#34;DiagonalBox&#34;}, &#34;type&#34;: &#34;QControlBox&#34;}, &#34;type&#34;: &#34;QControlBox&#34;}}, {&#34;args&#34;: [[&#34;m&#34;, [0]], [&#34;p&#34;, [0]], [&#34;p&#34;, [1]]], &#34;op&#34;: {&#34;box&#34;: {&#34;control_state&#34;: 1, &#34;id&#34;: &#34;4b31f0a3-5755-4dd7-b5cd-6782e2112670&#34;, &#34;n_controls&#34;: 1, &#34;op&#34;: {&#34;box&#34;: {&#34;diagonal&#34;: [[[1.0, 0.0]], [[6.123233995736766e-17, 1.0]], [[-1.0, 1.2246467991473532e-16]], [[-1.8369701987210297e-16, -1.0]]], &#34;id&#34;: &#34;2fee987f-11b3-40ce-891a-72e2e69edea3&#34;, &#34;type&#34;: &#34;DiagonalBox&#34;, &#34;upper_triangle&#34;: true}, &#34;type&#34;: &#34;DiagonalBox&#34;}, &#34;type&#34;: &#34;QControlBox&#34;}, &#34;type&#34;: &#34;QControlBox&#34;}}, {&#34;args&#34;: [[&#34;m&#34;, [0]], [&#34;p&#34;, [0]], [&#34;p&#34;, [1]]], &#34;op&#34;: {&#34;box&#34;: {&#34;control_state&#34;: 1, &#34;id&#34;: &#34;4b31f0a3-5755-4dd7-b5cd-6782e2112670&#34;, &#34;n_controls&#34;: 1, &#34;op&#34;: {&#34;box&#34;: {&#34;diagonal&#34;: [[[1.0, 0.0]], [[6.123233995736766e-17, 1.0]], [[-1.0, 1.2246467991473532e-16]], [[-1.8369701987210297e-16, -1.0]]], &#34;id&#34;: &#34;2fee987f-11b3-40ce-891a-72e2e69edea3&#34;, &#34;type&#34;: &#34;DiagonalBox&#34;, &#34;upper_triangle&#34;: true}, &#34;type&#34;: &#34;DiagonalBox&#34;}, &#34;type&#34;: &#34;QControlBox&#34;}, &#34;type&#34;: &#34;QControlBox&#34;}}, {&#34;args&#34;: [[&#34;m&#34;, [0]], [&#34;p&#34;, [0]], [&#34;p&#34;, [1]]], &#34;op&#34;: {&#34;box&#34;: {&#34;control_state&#34;: 1, &#34;id&#34;: &#34;4b31f0a3-5755-4dd7-b5cd-6782e2112670&#34;, &#34;n_controls&#34;: 1, &#34;op&#34;: {&#34;box&#34;: {&#34;diagonal&#34;: [[[1.0, 0.0]], [[6.123233995736766e-17, 1.0]], [[-1.0, 1.2246467991473532e-16]], [[-1.8369701987210297e-16, -1.0]]], &#34;id&#34;: &#34;2fee987f-11b3-40ce-891a-72e2e69edea3&#34;, &#34;type&#34;: &#34;DiagonalBox&#34;, &#34;upper_triangle&#34;: true}, &#34;type&#34;: &#34;DiagonalBox&#34;}, &#34;type&#34;: &#34;QControlBox&#34;}, &#34;type&#34;: &#34;QControlBox&#34;}}, {&#34;args&#34;: [[&#34;m&#34;, [0]], [&#34;m&#34;, [1]], [&#34;m&#34;, [2]], [&#34;m&#34;, [3]]], &#34;op&#34;: {&#34;box&#34;: {&#34;circuit&#34;: {&#34;bits&#34;: [], &#34;commands&#34;: [{&#34;args&#34;: [[&#34;q&#34;, [0]], [&#34;q&#34;, [3]]], &#34;op&#34;: {&#34;type&#34;: &#34;SWAP&#34;}}, {&#34;args&#34;: [[&#34;q&#34;, [1]], [&#34;q&#34;, [2]]], &#34;op&#34;: {&#34;type&#34;: &#34;SWAP&#34;}}, {&#34;args&#34;: [[&#34;q&#34;, [3]]], &#34;op&#34;: {&#34;type&#34;: &#34;H&#34;}}, {&#34;args&#34;: [[&#34;q&#34;, [3]], [&#34;q&#34;, [2]]], &#34;op&#34;: {&#34;params&#34;: [&#34;-0.5&#34;], &#34;type&#34;: &#34;CU1&#34;}}, {&#34;args&#34;: [[&#34;q&#34;, [3]], [&#34;q&#34;, [1]]], &#34;op&#34;: {&#34;params&#34;: [&#34;-0.25&#34;], &#34;type&#34;: &#34;CU1&#34;}}, {&#34;args&#34;: [[&#34;q&#34;, [2]]], &#34;op&#34;: {&#34;type&#34;: &#34;H&#34;}}, {&#34;args&#34;: [[&#34;q&#34;, [3]], [&#34;q&#34;, [0]]], &#34;op&#34;: {&#34;params&#34;: [&#34;-0.125&#34;], &#34;type&#34;: &#34;CU1&#34;}}, {&#34;args&#34;: [[&#34;q&#34;, [2]], [&#34;q&#34;, [1]]], &#34;op&#34;: {&#34;params&#34;: [&#34;-0.5&#34;], &#34;type&#34;: &#34;CU1&#34;}}, {&#34;args&#34;: [[&#34;q&#34;, [2]], [&#34;q&#34;, [0]]], &#34;op&#34;: {&#34;params&#34;: [&#34;-0.25&#34;], &#34;type&#34;: &#34;CU1&#34;}}, {&#34;args&#34;: [[&#34;q&#34;, [1]]], &#34;op&#34;: {&#34;type&#34;: &#34;H&#34;}}, {&#34;args&#34;: [[&#34;q&#34;, [1]], [&#34;q&#34;, [0]]], &#34;op&#34;: {&#34;params&#34;: [&#34;-0.5&#34;], &#34;type&#34;: &#34;CU1&#34;}}, {&#34;args&#34;: [[&#34;q&#34;, [0]]], &#34;op&#34;: {&#34;type&#34;: &#34;H&#34;}}], &#34;created_qubits&#34;: [], &#34;discarded_qubits&#34;: [], &#34;implicit_permutation&#34;: [[[&#34;q&#34;, [0]], [&#34;q&#34;, [0]]], [[&#34;q&#34;, [1]], [&#34;q&#34;, [1]]], [[&#34;q&#34;, [2]], [&#34;q&#34;, [2]]], [[&#34;q&#34;, [3]], [&#34;q&#34;, [3]]]], &#34;phase&#34;: &#34;0.0&#34;, &#34;qubits&#34;: [[&#34;q&#34;, [0]], [&#34;q&#34;, [1]], [&#34;q&#34;, [2]], [&#34;q&#34;, [3]]]}, &#34;id&#34;: &#34;8be70068-91c5-41ee-a06b-0a43f38bcbd5&#34;, &#34;type&#34;: &#34;CircBox&#34;}, &#34;type&#34;: &#34;CircBox&#34;}}, {&#34;args&#34;: [[&#34;m&#34;, [0]], [&#34;c&#34;, [0]]], &#34;op&#34;: {&#34;type&#34;: &#34;Measure&#34;}}, {&#34;args&#34;: [[&#34;m&#34;, [1]], [&#34;c&#34;, [1]]], &#34;op&#34;: {&#34;type&#34;: &#34;Measure&#34;}}, {&#34;args&#34;: [[&#34;m&#34;, [2]], [&#34;c&#34;, [2]]], &#34;op&#34;: {&#34;type&#34;: &#34;Measure&#34;}}, {&#34;args&#34;: [[&#34;m&#34;, [3]], [&#34;c&#34;, [3]]], &#34;op&#34;: {&#34;type&#34;: &#34;Measure&#34;}}], &#34;created_qubits&#34;: [], &#34;discarded_qubits&#34;: [], &#34;implicit_permutation&#34;: [[[&#34;m&#34;, [0]], [&#34;m&#34;, [0]]], [[&#34;m&#34;, [1]], [&#34;m&#34;, [1]]], [[&#34;m&#34;, [2]], [&#34;m&#34;, [2]]], [[&#34;m&#34;, [3]], [&#34;m&#34;, [3]]], [[&#34;p&#34;, [0]], [&#34;p&#34;, [0]]], [[&#34;p&#34;, [1]], [&#34;p&#34;, [1]]]], &#34;phase&#34;: &#34;0.0&#34;, &#34;qubits&#34;: [[&#34;m&#34;, [0]], [&#34;m&#34;, [1]], [&#34;m&#34;, [2]], [&#34;m&#34;, [3]], [&#34;p&#34;, [0]], [&#34;p&#34;, [1]]]}&lt;/div&gt;\n",
       "        &lt;/div&gt;\n",
       "        &lt;circuit-display-container\n",
       "                :circuit-element-str=&#34;&#39;#circuit-json-to-display&#39;&#34;\n",
       "                :init-render-options=&#34;initRenderOptions&#34;\n",
       "        &gt;&lt;/circuit-display-container&gt;\n",
       "    &lt;/div&gt;\n",
       "    &lt;script type=&#34;application/javascript&#34;&gt;\n",
       "      const circuitRendererUid = &#34;b0f5c53d-4b52-422c-927e-817cdf395e11&#34;;\n",
       "      const displayOptions = JSON.parse(&#39;{}&#39;);\n",
       "\n",
       "      // Script to initialise the circuit renderer app\n",
       "\n",
       "const { createApp } = Vue;\n",
       "const circuitDisplayContainer = window[&#34;pytket-circuit-renderer&#34;].default;\n",
       "// Init variables to be shared between circuit display instances\n",
       "if (typeof window.pytketCircuitDisplays === &#34;undefined&#34;) {\n",
       "    window.pytketCircuitDisplays = {};\n",
       "}\n",
       "// Create the root Vue component\n",
       "const app = createApp({\n",
       "    delimiters: [&#39;[[#&#39;, &#39;#]]&#39;],\n",
       "    components: { circuitDisplayContainer },\n",
       "    data () {\n",
       "      return {\n",
       "        initRenderOptions: displayOptions,\n",
       "      }\n",
       "    }\n",
       "})\n",
       "app.config.unwrapInjectedRef = true;\n",
       "app.mount(&#34;#circuit-display-vue-container-&#34;+circuitRendererUid);\n",
       "window.pytketCircuitDisplays[circuitRendererUid] = app;\n",
       "    &lt;/script&gt;\n",
       "\n",
       "\n",
       "\n",
       "&lt;/body&gt;\n",
       "&lt;/html&gt;\n",
       "\"\n",
       "            width=\"100%\" height=\"100%\"\n",
       "            style=\"border: none; outline: none; overflow: auto\"></iframe>\n",
       "</div>\n",
       "\n"
      ],
      "text/plain": [
       "<IPython.core.display.HTML object>"
      ]
     },
     "metadata": {},
     "output_type": "display_data"
    }
   ],
   "source": [
    "render_circuit_jupyter(circuit)"
   ]
  },
  {
   "cell_type": "code",
   "execution_count": 192,
   "id": "77ba1f15-c78a-43cd-8e0d-69b13b75b979",
   "metadata": {},
   "outputs": [],
   "source": [
    "from pytket.extensions.nexus import NexusBackend, QuantinuumConfig, Nexus\n",
    "from pytket.passes import DecomposeBoxes"
   ]
  },
  {
   "cell_type": "code",
   "execution_count": 202,
   "id": "9827268d-9bd4-4b25-bc62-213bc8414487",
   "metadata": {},
   "outputs": [
    {
     "name": "stdout",
     "output_type": "stream",
     "text": [
      "\n",
      "Started using project with name: Standard QPR 1E, state = 3, p = 2, m = 7\n"
     ]
    }
   ],
   "source": [
    "nexus = Nexus()\n",
    "backend_name = \"1E\"\n",
    "phase_est_project = Nexus().get_project_by_name(f\"Standard QPR {backend_name}, state = {state}, p = {p}, m = {m}\")\n",
    "#phase_est_project = Nexus().new_project(f\"Standard QPR {backend_name}, state = {state}, p = {p}, m = {m}\")\n",
    "\n",
    "configuration = QuantinuumConfig(device_name=\"H1-1E\")\n",
    "\n",
    "DecomposeBoxes().apply(circuit)\n",
    "\n",
    "backend = NexusBackend(\n",
    "    backend_config= configuration, \n",
    "    project= phase_est_project\n",
    ")"
   ]
  },
  {
   "cell_type": "code",
   "execution_count": 203,
   "id": "ce4ffbf9-0dd2-47e0-982e-b09538aa9525",
   "metadata": {},
   "outputs": [],
   "source": [
    "compiled_circ = backend.get_compiled_circuit(circuit)"
   ]
  },
  {
   "cell_type": "code",
   "execution_count": 204,
   "id": "61183bf0-d952-43e4-9c60-409b1d1041d2",
   "metadata": {},
   "outputs": [],
   "source": [
    "n_shots = 1\n",
    "result = backend.run_circuit(compiled_circ, n_shots)"
   ]
  },
  {
   "cell_type": "code",
   "execution_count": null,
   "id": "cd8c8681-8761-410b-96a2-5755bc44a1b1",
   "metadata": {},
   "outputs": [],
   "source": [
    "print(result.get_counts())"
   ]
  },
  {
   "cell_type": "code",
   "execution_count": null,
   "id": "4386aefa-1916-40ad-b8ef-11bdc6361a4c",
   "metadata": {},
   "outputs": [],
   "source": [
    "from pytket.backends.backendresult import BackendResult\n",
    "import matplotlib.pyplot as plt"
   ]
  },
  {
   "cell_type": "code",
   "execution_count": null,
   "id": "86cbda21-2250-49ba-a656-de77443f5eea",
   "metadata": {},
   "outputs": [],
   "source": [
    "def plot_qpe_results(\n",
    "    sim_result: BackendResult,\n",
    "    n_strings: int = m,\n",
    "    dark_mode: bool = False,\n",
    "    y_limit: int = 1000,\n",
    ") -> None:\n",
    "    \"\"\"\n",
    "    Plots results in a barchart given a BackendResult. the number of stings displayed\n",
    "    can be specified with the n_strings argument.\n",
    "    \"\"\"\n",
    "    counts_dict = sim_result.get_counts()\n",
    "    sorted_shots = counts_dict.most_common()\n",
    "    n_most_common_strings = sorted_shots[:n_strings]\n",
    "    x_axis_values = [str(entry[0]) for entry in n_most_common_strings]  # basis states\n",
    "    y_axis_values = [entry[1] for entry in n_most_common_strings]  # counts\n",
    "    if dark_mode:\n",
    "        plt.style.use(\"dark_background\")\n",
    "    fig = plt.figure()\n",
    "    ax = fig.add_axes((0, 0, 0.75, 0.5))\n",
    "    color_list = [\"orange\"] * (len(x_axis_values))\n",
    "    ax.bar(\n",
    "        x=x_axis_values,\n",
    "        height=y_axis_values,\n",
    "        color=color_list,\n",
    "    )\n",
    "    ax.set_title(label=\"Results\")\n",
    "    plt.ylim([0, y_limit])\n",
    "    plt.xlabel(\"Basis State\")\n",
    "    plt.ylabel(\"Number of Shots\")\n",
    "    plt.show()"
   ]
  },
  {
   "cell_type": "code",
   "execution_count": null,
   "id": "832e5e45-37df-4f8b-aa1c-6c72d6b9ebc1",
   "metadata": {},
   "outputs": [],
   "source": [
    "plot_qpe_results(result, y_limit=int(1.2 * n_shots))"
   ]
  },
  {
   "cell_type": "code",
   "execution_count": 68,
   "id": "4ea85f51-899e-4257-b582-7038da1ef0c2",
   "metadata": {},
   "outputs": [
    {
     "data": {
      "text/plain": [
       "array([[1.+0.j, 0.+0.j, 0.+0.j, 0.+0.j, 0.+0.j, 0.+0.j, 0.+0.j, 0.+0.j,\n",
       "        0.+0.j, 0.+0.j, 0.+0.j, 0.+0.j, 0.+0.j, 0.+0.j, 0.+0.j, 0.+0.j],\n",
       "       [0.+0.j, 1.+0.j, 0.+0.j, 0.+0.j, 0.+0.j, 0.+0.j, 0.+0.j, 0.+0.j,\n",
       "        0.+0.j, 0.+0.j, 0.+0.j, 0.+0.j, 0.+0.j, 0.+0.j, 0.+0.j, 0.+0.j],\n",
       "       [0.+0.j, 0.+0.j, 1.+0.j, 0.+0.j, 0.+0.j, 0.+0.j, 0.+0.j, 0.+0.j,\n",
       "        0.+0.j, 0.+0.j, 0.+0.j, 0.+0.j, 0.+0.j, 0.+0.j, 0.+0.j, 0.+0.j],\n",
       "       [0.+0.j, 0.+0.j, 0.+0.j, 1.+0.j, 0.+0.j, 0.+0.j, 0.+0.j, 0.+0.j,\n",
       "        0.+0.j, 0.+0.j, 0.+0.j, 0.+0.j, 0.+0.j, 0.+0.j, 0.+0.j, 0.+0.j],\n",
       "       [0.+0.j, 0.+0.j, 0.+0.j, 0.+0.j, 1.+0.j, 0.+0.j, 0.+0.j, 0.+0.j,\n",
       "        0.+0.j, 0.+0.j, 0.+0.j, 0.+0.j, 0.+0.j, 0.+0.j, 0.+0.j, 0.+0.j],\n",
       "       [0.+0.j, 0.+0.j, 0.+0.j, 0.+0.j, 0.+0.j, 1.+0.j, 0.+0.j, 0.+0.j,\n",
       "        0.+0.j, 0.+0.j, 0.+0.j, 0.+0.j, 0.+0.j, 0.+0.j, 0.+0.j, 0.+0.j],\n",
       "       [0.+0.j, 0.+0.j, 0.+0.j, 0.+0.j, 0.+0.j, 0.+0.j, 1.+0.j, 0.+0.j,\n",
       "        0.+0.j, 0.+0.j, 0.+0.j, 0.+0.j, 0.+0.j, 0.+0.j, 0.+0.j, 0.+0.j],\n",
       "       [0.+0.j, 0.+0.j, 0.+0.j, 0.+0.j, 0.+0.j, 0.+0.j, 0.+0.j, 1.+0.j,\n",
       "        0.+0.j, 0.+0.j, 0.+0.j, 0.+0.j, 0.+0.j, 0.+0.j, 0.+0.j, 0.+0.j],\n",
       "       [0.+0.j, 0.+0.j, 0.+0.j, 0.+0.j, 0.+0.j, 0.+0.j, 0.+0.j, 0.+0.j,\n",
       "        1.+0.j, 0.+0.j, 0.+0.j, 0.+0.j, 0.+0.j, 0.+0.j, 0.+0.j, 0.+0.j],\n",
       "       [0.+0.j, 0.+0.j, 0.+0.j, 0.+0.j, 0.+0.j, 0.+0.j, 0.+0.j, 0.+0.j,\n",
       "        0.+0.j, 1.+0.j, 0.+0.j, 0.+0.j, 0.+0.j, 0.+0.j, 0.+0.j, 0.+0.j],\n",
       "       [0.+0.j, 0.+0.j, 0.+0.j, 0.+0.j, 0.+0.j, 0.+0.j, 0.+0.j, 0.+0.j,\n",
       "        0.+0.j, 0.+0.j, 1.+0.j, 0.+0.j, 0.+0.j, 0.+0.j, 0.+0.j, 0.+0.j],\n",
       "       [0.+0.j, 0.+0.j, 0.+0.j, 0.+0.j, 0.+0.j, 0.+0.j, 0.+0.j, 0.+0.j,\n",
       "        0.+0.j, 0.+0.j, 0.+0.j, 1.+0.j, 0.+0.j, 0.+0.j, 0.+0.j, 0.+0.j],\n",
       "       [0.+0.j, 0.+0.j, 0.+0.j, 0.+0.j, 0.+0.j, 0.+0.j, 0.+0.j, 0.+0.j,\n",
       "        0.+0.j, 0.+0.j, 0.+0.j, 0.+0.j, 1.+0.j, 0.+0.j, 0.+0.j, 0.+0.j],\n",
       "       [0.+0.j, 0.+0.j, 0.+0.j, 0.+0.j, 0.+0.j, 0.+0.j, 0.+0.j, 0.+0.j,\n",
       "        0.+0.j, 0.+0.j, 0.+0.j, 0.+0.j, 0.+0.j, 1.+0.j, 0.+0.j, 0.+0.j],\n",
       "       [0.+0.j, 0.+0.j, 0.+0.j, 0.+0.j, 0.+0.j, 0.+0.j, 0.+0.j, 0.+0.j,\n",
       "        0.+0.j, 0.+0.j, 0.+0.j, 0.+0.j, 0.+0.j, 0.+0.j, 1.+0.j, 0.+0.j],\n",
       "       [0.+0.j, 0.+0.j, 0.+0.j, 0.+0.j, 0.+0.j, 0.+0.j, 0.+0.j, 0.+0.j,\n",
       "        0.+0.j, 0.+0.j, 0.+0.j, 0.+0.j, 0.+0.j, 0.+0.j, 0.+0.j, 1.+0.j]])"
      ]
     },
     "execution_count": 68,
     "metadata": {},
     "output_type": "execute_result"
    }
   ],
   "source": [
    "controlU.get_unitary()"
   ]
  },
  {
   "cell_type": "code",
   "execution_count": null,
   "id": "d7f98571-d1c7-4d96-9700-38edb57ef2b6",
   "metadata": {},
   "outputs": [],
   "source": []
  },
  {
   "cell_type": "code",
   "execution_count": 34,
   "id": "fcd6d698-73ef-4dd9-be79-75d418a11c96",
   "metadata": {},
   "outputs": [
    {
     "name": "stdout",
     "output_type": "stream",
     "text": [
      "[[(6.123233995736766e-17+1j), 0, 0, 0], [0, (-1+1.2246467991473532e-16j), 0, 0], [0, 0, (-1.8369701987210297e-16-1j), 0], [0, 0, 0, (1-2.4492935982947064e-16j)]]\n"
     ]
    }
   ],
   "source": [
    "n = 2\n",
    "N = int(math.pow(2, n))\n",
    "matrix = []\n",
    "for i in range(N):\n",
    "    row = [0]*N\n",
    "    theta = i + 1\n",
    "    row[i] = math.cos(2*math.pi*theta/N) + 1j*math.sin(2*math.pi*theta/N)\n",
    "    #math.exp(2*math.pi*1j/N) \n",
    "    matrix.append(row)\n",
    "print(matrix)"
   ]
  },
  {
   "cell_type": "code",
   "execution_count": 38,
   "id": "967d28e7-0369-4816-89df-2d1dc5b168f3",
   "metadata": {},
   "outputs": [
    {
     "ename": "AttributeError",
     "evalue": "'InstructionSet' object has no attribute 'control'",
     "output_type": "error",
     "traceback": [
      "\u001b[0;31m---------------------------------------------------------------------------\u001b[0m",
      "\u001b[0;31mAttributeError\u001b[0m                            Traceback (most recent call last)",
      "Cell \u001b[0;32mIn[38], line 5\u001b[0m\n\u001b[1;32m      3\u001b[0m qr \u001b[38;5;241m=\u001b[39m QuantumRegister(n \u001b[38;5;241m+\u001b[39m \u001b[38;5;241m1\u001b[39m)\n\u001b[1;32m      4\u001b[0m qc \u001b[38;5;241m=\u001b[39m QuantumCircuit(qr)\n\u001b[0;32m----> 5\u001b[0m \u001b[43mqc\u001b[49m\u001b[38;5;241;43m.\u001b[39;49m\u001b[43munitary\u001b[49m\u001b[43m(\u001b[49m\u001b[43mcustom_op\u001b[49m\u001b[43m,\u001b[49m\u001b[43m \u001b[49m\u001b[43m[\u001b[49m\u001b[38;5;241;43m1\u001b[39;49m\u001b[43m,\u001b[49m\u001b[38;5;241;43m2\u001b[39;49m\u001b[43m]\u001b[49m\u001b[43m,\u001b[49m\u001b[43m \u001b[49m\u001b[43mlabel\u001b[49m\u001b[38;5;241;43m=\u001b[39;49m\u001b[38;5;124;43m\"\u001b[39;49m\u001b[38;5;124;43mcustom CX\u001b[39;49m\u001b[38;5;124;43m\"\u001b[39;49m\u001b[43m)\u001b[49m\u001b[38;5;241;43m.\u001b[39;49m\u001b[43mcontrol\u001b[49m()\n\u001b[1;32m      6\u001b[0m qc\u001b[38;5;241m.\u001b[39mdraw(\u001b[38;5;124m\"\u001b[39m\u001b[38;5;124mmpl\u001b[39m\u001b[38;5;124m\"\u001b[39m)\n",
      "\u001b[0;31mAttributeError\u001b[0m: 'InstructionSet' object has no attribute 'control'"
     ]
    }
   ],
   "source": [
    "custom_op = qi.Operator(matrix)\n",
    "\n",
    "qr = QuantumRegister(n + 1)\n",
    "qc = QuantumCircuit(qr)\n",
    "qc.unitary(custom_op, [1,2], label=\"custom CX\").control()\n",
    "qc.draw(\"mpl\")\n",
    "# use DiagonalBox and ControlBox"
   ]
  },
  {
   "cell_type": "code",
   "execution_count": 14,
   "id": "d87ee318-7c80-4a5c-a21f-850776d8154f",
   "metadata": {},
   "outputs": [
    {
     "ename": "TypeError",
     "evalue": "QuantumCircuit.measure() missing 2 required positional arguments: 'qubit' and 'cbit'",
     "output_type": "error",
     "traceback": [
      "\u001b[0;31m---------------------------------------------------------------------------\u001b[0m",
      "\u001b[0;31mTypeError\u001b[0m                                 Traceback (most recent call last)",
      "Cell \u001b[0;32mIn[14], line 1\u001b[0m\n\u001b[0;32m----> 1\u001b[0m \u001b[43mqc\u001b[49m\u001b[38;5;241;43m.\u001b[39;49m\u001b[43mmeasure\u001b[49m\u001b[43m(\u001b[49m\u001b[43m)\u001b[49m\n",
      "\u001b[0;31mTypeError\u001b[0m: QuantumCircuit.measure() missing 2 required positional arguments: 'qubit' and 'cbit'"
     ]
    }
   ],
   "source": [
    "qc.measure()"
   ]
  }
 ],
 "metadata": {
  "kernelspec": {
   "display_name": "Python 3 (ipykernel)",
   "language": "python",
   "name": "python3"
  },
  "language_info": {
   "codemirror_mode": {
    "name": "ipython",
    "version": 3
   },
   "file_extension": ".py",
   "mimetype": "text/x-python",
   "name": "python",
   "nbconvert_exporter": "python",
   "pygments_lexer": "ipython3",
   "version": "3.10.10"
  }
 },
 "nbformat": 4,
 "nbformat_minor": 5
}
