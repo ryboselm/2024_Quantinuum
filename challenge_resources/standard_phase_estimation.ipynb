{
 "cells": [
  {
   "cell_type": "markdown",
   "id": "77ce3602-4a3c-429a-b357-130fb4196d0d",
   "metadata": {},
   "source": [
    "Testing Notebook for Baseline (Normal) Quantum Phase Estimation"
   ]
  },
  {
   "cell_type": "code",
   "execution_count": 11,
   "id": "e57743f0-fd3d-4999-b8de-ae3f4800eefa",
   "metadata": {},
   "outputs": [],
   "source": [
    "from pytket.circuit import Circuit, CircBox, QControlBox\n",
    "from pytket.circuit.display import render_circuit_jupyter\n",
    "from pytket.extensions.qiskit import AerStateBackend\n",
    "from pytket.extensions.nexus import NexusBackend, QuantinuumConfig, Nexus"
   ]
  },
  {
   "cell_type": "code",
   "execution_count": 12,
   "id": "839b9603-b098-4cfe-bef3-98df5bfa2327",
   "metadata": {},
   "outputs": [],
   "source": [
    "def build_qft_circuit(n_qubits: int) -> Circuit:\n",
    "    circ = Circuit(n_qubits, name=\"QFT\")\n",
    "    for i in range(n_qubits):\n",
    "        circ.H(i)\n",
    "        for j in range(i + 1, n_qubits):\n",
    "            circ.CU1(1 / 2 ** (j - i), j, i)\n",
    "    for k in range(0, n_qubits // 2):\n",
    "        circ.SWAP(k, n_qubits - k - 1)\n",
    "    return circ"
   ]
  },
  {
   "cell_type": "code",
   "execution_count": 13,
   "id": "1fbb35a3-6558-41d3-84d7-e33d11113d7d",
   "metadata": {},
   "outputs": [],
   "source": [
    "def build_phase_estimation_circuit(\n",
    "    n_measurement_qubits: int, state_prep_circuit: Circuit, unitary_circuit: Circuit\n",
    ") -> Circuit:\n",
    "    # Define a Circuit with a measurement and prep register\n",
    "    qpe_circ: Circuit = Circuit()\n",
    "    n_state_prep_qubits = state_prep_circuit.n_qubits\n",
    "    measurement_register = qpe_circ.add_q_register(\"m\", n_measurement_qubits)\n",
    "    state_prep_register = qpe_circ.add_q_register(\"p\", n_state_prep_qubits)\n",
    "    qpe_circ.add_circuit(state_prep_circuit, list(state_prep_register))\n",
    "\n",
    "    # Create a controlled unitary with a single control qubit\n",
    "    unitary_circuit.name = \"U\"\n",
    "    controlled_u_gate = QControlBox(CircBox(unitary_circuit), 1)\n",
    "\n",
    "    # Add Hadamard gates to every qubit in the measurement register\n",
    "    for m_qubit in measurement_register:\n",
    "        qpe_circ.H(m_qubit)\n",
    "\n",
    "    # Add all (2**n_measurement_qubits - 1) of the controlled unitaries sequentially\n",
    "    for m_qubit in range(n_measurement_qubits):\n",
    "        control_index = n_measurement_qubits - m_qubit - 1\n",
    "        control_qubit = [measurement_register[control_index]]\n",
    "        for _ in range(2**m_qubit):\n",
    "            qpe_circ.add_qcontrolbox(\n",
    "                controlled_u_gate, control_qubit + list(state_prep_register)\n",
    "            )\n",
    "\n",
    "    # Finally, append the inverse qft and measure the qubits\n",
    "    qft_box = CircBox(build_qft_circuit(n_measurement_qubits))\n",
    "    inverse_qft_box = qft_box.dagger\n",
    "    qpe_circ.add_circbox(inverse_qft_box, list(measurement_register))\n",
    "    qpe_circ.measure_register(measurement_register, \"c\")\n",
    "    return qpe_circ"
   ]
  },
  {
   "cell_type": "code",
   "execution_count": 14,
   "id": "8be60cca-0f88-4a85-9675-66e2ce8b8183",
   "metadata": {},
   "outputs": [],
   "source": [
    "from pytket.backends.backendresult import BackendResult\n",
    "import matplotlib.pyplot as plt"
   ]
  },
  {
   "cell_type": "code",
   "execution_count": 15,
   "id": "1b7ac07d-a72a-4a8c-b14e-9e6c5fd4fc8e",
   "metadata": {},
   "outputs": [],
   "source": [
    "def plot_qpe_results(\n",
    "    sim_result: BackendResult,\n",
    "    n_strings: int = 4,\n",
    "    dark_mode: bool = False,\n",
    "    y_limit: int = 1000,\n",
    ") -> None:\n",
    "    \"\"\"\n",
    "    Plots results in a barchart given a BackendResult. the number of stings displayed\n",
    "    can be specified with the n_strings argument.\n",
    "    \"\"\"\n",
    "    counts_dict = sim_result.get_counts()\n",
    "    sorted_shots = counts_dict.most_common()\n",
    "    n_most_common_strings = sorted_shots[:n_strings]\n",
    "    x_axis_values = [str(entry[0]) for entry in n_most_common_strings]  # basis states\n",
    "    y_axis_values = [entry[1] for entry in n_most_common_strings]  # counts\n",
    "    if dark_mode:\n",
    "        plt.style.use(\"dark_background\")\n",
    "    fig = plt.figure()\n",
    "    ax = fig.add_axes((0, 0, 0.75, 0.5))\n",
    "    color_list = [\"orange\"] * (len(x_axis_values))\n",
    "    ax.bar(\n",
    "        x=x_axis_values,\n",
    "        height=y_axis_values,\n",
    "        color=color_list,\n",
    "    )\n",
    "    ax.set_title(label=\"Results\")\n",
    "    plt.ylim([0, y_limit])\n",
    "    plt.xlabel(\"Basis State\")\n",
    "    plt.ylabel(\"Number of Shots\")\n",
    "    plt.show()"
   ]
  },
  {
   "cell_type": "code",
   "execution_count": 16,
   "id": "e80e6455-5946-41f8-9a8b-645df3be3456",
   "metadata": {},
   "outputs": [],
   "source": [
    "def single_phase_from_backendresult(result: BackendResult) -> float:\n",
    "    # Extract most common measurement outcome\n",
    "    basis_state = result.get_counts().most_common()[0][0]\n",
    "    bitstring = \"\".join([str(bit) for bit in basis_state])\n",
    "    integer_j = int(bitstring, 2)\n",
    "\n",
    "    # Calculate theta estimate\n",
    "    return integer_j / (2 ** len(bitstring))"
   ]
  },
  {
   "cell_type": "code",
   "execution_count": 22,
   "id": "b9b11126-b67f-4c4e-b8ee-dddbc19ba98e",
   "metadata": {},
   "outputs": [
    {
     "data": {
      "image/png": "[encoded data removed]",
      "text/plain": [
       "<Figure size 640x480 with 1 Axes>"
      ]
     },
     "metadata": {},
     "output_type": "display_data"
    },
    {
     "name": "stdout",
     "output_type": "stream",
     "text": [
      "Estimate: 0.3671875\n",
      "True: 0.365\n"
     ]
    }
   ],
   "source": [
    "prep_circuit = Circuit(1).X(0)  # prepare the |1> eigenstate of U1\n",
    "input_angle = 0.73  # angle as number of half turns\n",
    "unitary_circuit = Circuit(1).U1(input_angle, 0)  # Base unitary for controlled U ops\n",
    "\n",
    "precision = 7\n",
    "\n",
    "qpe_circ = build_phase_estimation_circuit(\n",
    "    precision, state_prep_circuit=prep_circuit, unitary_circuit=unitary_circuit\n",
    ")\n",
    "backend = AerStateBackend()\n",
    "n_shots = 1000\n",
    "compiled_circ = backend.get_compiled_circuit(qpe_circ)\n",
    "result = backend.run_circuit(compiled_circ, n_shots)\n",
    "plot_qpe_results(result)\n",
    "\n",
    "estimate = single_phase_from_backendresult(result)\n",
    "print('Estimate:', estimate)\n",
    "print('True:', input_angle/2)"
   ]
  }
 ],
 "metadata": {
  "kernelspec": {
   "display_name": "Python 3 (ipykernel)",
   "language": "python",
   "name": "python3"
  },
  "language_info": {
   "codemirror_mode": {
    "name": "ipython",
    "version": 3
   },
   "file_extension": ".py",
   "mimetype": "text/x-python",
   "name": "python",
   "nbconvert_exporter": "python",
   "pygments_lexer": "ipython3",
   "version": "3.10.10"
  }
 },
 "nbformat": 4,
 "nbformat_minor": 5
}
